{
  "nbformat": 4,
  "nbformat_minor": 0,
  "metadata": {
    "colab": {
      "provenance": []
    },
    "kernelspec": {
      "name": "python3",
      "display_name": "Python 3"
    },
    "language_info": {
      "name": "python"
    }
  },
  "cells": [
    {
      "cell_type": "markdown",
      "source": [],
      "metadata": {
        "id": "3Bktg0vY5U_5"
      }
    },
    {
      "cell_type": "code",
      "metadata": {
        "colab": {
          "base_uri": "https://localhost:8080/",
          "height": 117
        },
        "id": "599e6cf6",
        "outputId": "2b7e1a87-ca3e-4136-d968-552377271153"
      },
      "source": [
        "\n",
        "# Pizza Sales Analysis using SQL and Python\n",
        "\n",
        "This project aims to analyze pizza sales data using SQL queries for data retrieval and manipulation, and Python for data analysis and visualization. The dataset used in this project contains information about pizza orders, pizza types, and pizza details, and it is sourced from [Kaggle](https://www.kaggle.com/datasets/kartiktekwani/pizza-house-sales-datasets).\n",
        "\n"
      ],
      "execution_count": null,
      "outputs": [
        {
          "output_type": "display_data",
          "data": {
            "text/plain": [
              "<IPython.core.display.Markdown object>"
            ],
            "text/markdown": "# Pizza Sales Analysis using SQL and Python\n\nThis project aims to analyze pizza sales data using SQL queries for data retrieval and manipulation, and Python for data analysis and visualization. The dataset used in this project contains information about pizza orders, pizza types, and pizza details, and it is sourced from [Kaggle](https://www.kaggle.com/datasets/kartiktekwani/pizza-house-sales-datasets).\n"
          },
          "metadata": {}
        }
      ]
    },
    {
      "cell_type": "markdown",
      "source": [
        "**Problem Statement**:\n",
        "This SQL project involves analyzing a pizza sales dataset to gain insights about sales patterns, order distributions, and revenue. The dataset contains details about customer orders, pizzas, their categories, and prices. Students will be required to write SQL queries to extract and analyze data based on a series of progressively challenging questions.\n"
      ],
      "metadata": {
        "id": "ao3846yT6UZ5"
      }
    },
    {
      "cell_type": "markdown",
      "source": [
        "# **Setting Up the SQL Server**"
      ],
      "metadata": {
        "id": "ddVADMcCc_wI"
      }
    },
    {
      "cell_type": "code",
      "execution_count": 3,
      "metadata": {
        "id": "wfRw_WY-EQtL"
      },
      "outputs": [],
      "source": [
        "# dataset\n",
        "# https://drive.google.com/file/d/1wfqpxZyATIZTZFnG_WWEXUBl9BIa08GD/view?usp=sharing"
      ]
    },
    {
      "cell_type": "code",
      "source": [
        "# 1️⃣ Install MySQL server (if you haven’t)\n",
        "!sudo apt-get update\n",
        "!sudo apt-get install mysql-server\n",
        "\n",
        "# 2️⃣ Start MySQL service\n",
        "!sudo service mysql start\n",
        "\n",
        "# 3️⃣ Create database safely\n",
        "!mysql -u root -proot -e \"CREATE DATABASE IF NOT EXISTS pizza_db;\"\n",
        "\n",
        "# 4️⃣ Load sample data\n",
        "!mysql -u root -proot pizza_db < pizza_db.sql"
      ],
      "metadata": {
        "colab": {
          "base_uri": "https://localhost:8080/"
        },
        "id": "fLkGCL8AguRK",
        "outputId": "c7586375-b4b3-4e86-ac7d-30295f3e6168"
      },
      "execution_count": 56,
      "outputs": [
        {
          "output_type": "stream",
          "name": "stdout",
          "text": [
            "\r0% [Working]\r            \rHit:1 https://developer.download.nvidia.com/compute/cuda/repos/ubuntu2204/x86_64  InRelease\n",
            "\r0% [Waiting for headers] [Waiting for headers] [Connected to cloud.r-project.or\r                                                                               \rHit:2 http://archive.ubuntu.com/ubuntu jammy InRelease\n",
            "Hit:3 http://archive.ubuntu.com/ubuntu jammy-updates InRelease\n",
            "Hit:4 http://security.ubuntu.com/ubuntu jammy-security InRelease\n",
            "Hit:5 http://archive.ubuntu.com/ubuntu jammy-backports InRelease\n",
            "Hit:6 https://r2u.stat.illinois.edu/ubuntu jammy InRelease\n",
            "Hit:7 https://cloud.r-project.org/bin/linux/ubuntu jammy-cran40/ InRelease\n",
            "Hit:8 https://ppa.launchpadcontent.net/deadsnakes/ppa/ubuntu jammy InRelease\n",
            "Hit:9 https://ppa.launchpadcontent.net/graphics-drivers/ppa/ubuntu jammy InRelease\n",
            "Hit:10 https://ppa.launchpadcontent.net/ubuntugis/ppa/ubuntu jammy InRelease\n",
            "Reading package lists... Done\n",
            "W: Skipping acquire of configured file 'main/source/Sources' as repository 'https://r2u.stat.illinois.edu/ubuntu jammy InRelease' does not seem to provide it (sources.list entry misspelt?)\n",
            "Reading package lists... Done\n",
            "Building dependency tree... Done\n",
            "Reading state information... Done\n",
            "mysql-server is already the newest version (8.0.42-0ubuntu0.22.04.2).\n",
            "0 upgraded, 0 newly installed, 0 to remove and 36 not upgraded.\n",
            " * Starting MySQL database server mysqld\n",
            "   ...done.\n",
            "mysql: [Warning] Using a password on the command line interface can be insecure.\n",
            "mysql: [Warning] Using a password on the command line interface can be insecure.\n"
          ]
        }
      ]
    },
    {
      "cell_type": "code",
      "source": [
        "!mysql -u root -proot -e 'Show databases;'"
      ],
      "metadata": {
        "colab": {
          "base_uri": "https://localhost:8080/"
        },
        "id": "lfjsXWtbkYE0",
        "outputId": "29ec2dbf-9263-4c95-f55e-19d362d316cd"
      },
      "execution_count": 62,
      "outputs": [
        {
          "output_type": "stream",
          "name": "stdout",
          "text": [
            "mysql: [Warning] Using a password on the command line interface can be insecure.\n",
            "+--------------------+\n",
            "| Database           |\n",
            "+--------------------+\n",
            "| information_schema |\n",
            "| mysql              |\n",
            "| performance_schema |\n",
            "| pizza_db           |\n",
            "| sys                |\n",
            "+--------------------+\n"
          ]
        }
      ]
    },
    {
      "cell_type": "code",
      "source": [
        "# try selecting a table\n",
        "!mysql -u root -proot -e 'use pizza_db; select * from order_details limit 5;'"
      ],
      "metadata": {
        "colab": {
          "base_uri": "https://localhost:8080/"
        },
        "id": "UOLDCu6ukvQ3",
        "outputId": "c779aba0-30f6-494d-8c96-cb5b763359fc"
      },
      "execution_count": 63,
      "outputs": [
        {
          "output_type": "stream",
          "name": "stdout",
          "text": [
            "mysql: [Warning] Using a password on the command line interface can be insecure.\n",
            "+------------------+----------+---------------+----------+\n",
            "| order_details_id | order_id | pizza_id      | quantity |\n",
            "+------------------+----------+---------------+----------+\n",
            "|                1 |        1 | hawaiian_m    |        1 |\n",
            "|                2 |        2 | classic_dlx_m |        1 |\n",
            "|                3 |        2 | five_cheese_l |        1 |\n",
            "|                4 |        2 | ital_supr_l   |        1 |\n",
            "|                5 |        2 | mexicana_m    |        1 |\n",
            "+------------------+----------+---------------+----------+\n"
          ]
        }
      ]
    },
    {
      "cell_type": "markdown",
      "source": [
        "#  **SQL questions**"
      ],
      "metadata": {
        "id": "mDfOIt7oplsD"
      }
    },
    {
      "cell_type": "markdown",
      "source": [
        "# **Basic level**"
      ],
      "metadata": {
        "id": "diUvoScii1B0"
      }
    },
    {
      "cell_type": "markdown",
      "source": [
        "# **1 Retrieve the total number of orders placed.**\n",
        "## Counts all the entries in the 'orders' table to get the total number of orders.\n"
      ],
      "metadata": {
        "id": "r8Sz7P0Vi6U4"
      }
    },
    {
      "cell_type": "code",
      "source": [
        "!mysql -u root -proot -e 'use pizza_db; select * from orders limit 10;'"
      ],
      "metadata": {
        "colab": {
          "base_uri": "https://localhost:8080/"
        },
        "id": "EEGLs0K6kOHi",
        "outputId": "94ac7a10-782d-4b8e-b276-a8b81131539e"
      },
      "execution_count": 64,
      "outputs": [
        {
          "output_type": "stream",
          "name": "stdout",
          "text": [
            "mysql: [Warning] Using a password on the command line interface can be insecure.\n",
            "+----------+------------+----------+\n",
            "| order_id | date       | time     |\n",
            "+----------+------------+----------+\n",
            "|        1 | 2015-01-01 | 11:38:36 |\n",
            "|        2 | 2015-01-01 | 11:57:40 |\n",
            "|        3 | 2015-01-01 | 12:12:28 |\n",
            "|        4 | 2015-01-01 | 12:16:31 |\n",
            "|        5 | 2015-01-01 | 12:21:30 |\n",
            "|        6 | 2015-01-01 | 12:29:36 |\n",
            "|        7 | 2015-01-01 | 12:50:37 |\n",
            "|        8 | 2015-01-01 | 12:51:37 |\n",
            "|        9 | 2015-01-01 | 12:52:01 |\n",
            "|       10 | 2015-01-01 | 13:00:15 |\n",
            "+----------+------------+----------+\n"
          ]
        }
      ]
    },
    {
      "cell_type": "code",
      "source": [
        "!mysql -u root -proot -e \"use pizza_db; select count(*) as total_orders from orders;\""
      ],
      "metadata": {
        "colab": {
          "base_uri": "https://localhost:8080/"
        },
        "id": "BPFMXVKXlVPg",
        "outputId": "eb74cc67-2aa0-4357-dc31-7a7cc6044a9f"
      },
      "execution_count": 65,
      "outputs": [
        {
          "output_type": "stream",
          "name": "stdout",
          "text": [
            "mysql: [Warning] Using a password on the command line interface can be insecure.\n",
            "+--------------+\n",
            "| total_orders |\n",
            "+--------------+\n",
            "|        21350 |\n",
            "+--------------+\n"
          ]
        }
      ]
    },
    {
      "cell_type": "markdown",
      "source": [
        "# **2 Calculate the total revenue generated from pizza sales.**\n",
        "\n",
        "## Multiplies quantity by price for each order to compute total sales revenue."
      ],
      "metadata": {
        "id": "-FVbzHTIjVNL"
      }
    },
    {
      "cell_type": "code",
      "source": [
        "!mysql -u root -proot -e 'use pizza_db; select * from order_details limit 10;'"
      ],
      "metadata": {
        "colab": {
          "base_uri": "https://localhost:8080/"
        },
        "id": "3pHRlXivkbUU",
        "outputId": "1eb126d8-36b5-4f30-a81c-e5d980a2e256"
      },
      "execution_count": 66,
      "outputs": [
        {
          "output_type": "stream",
          "name": "stdout",
          "text": [
            "mysql: [Warning] Using a password on the command line interface can be insecure.\n",
            "+------------------+----------+---------------+----------+\n",
            "| order_details_id | order_id | pizza_id      | quantity |\n",
            "+------------------+----------+---------------+----------+\n",
            "|                1 |        1 | hawaiian_m    |        1 |\n",
            "|                2 |        2 | classic_dlx_m |        1 |\n",
            "|                3 |        2 | five_cheese_l |        1 |\n",
            "|                4 |        2 | ital_supr_l   |        1 |\n",
            "|                5 |        2 | mexicana_m    |        1 |\n",
            "|                6 |        2 | thai_ckn_l    |        1 |\n",
            "|                7 |        3 | ital_supr_m   |        1 |\n",
            "|                8 |        3 | prsc_argla_l  |        1 |\n",
            "|                9 |        4 | ital_supr_m   |        1 |\n",
            "|               10 |        5 | ital_supr_m   |        1 |\n",
            "+------------------+----------+---------------+----------+\n"
          ]
        }
      ]
    },
    {
      "cell_type": "code",
      "source": [
        "!mysql -u root -proot -e 'use pizza_db; select * from pizzas limit 10;'"
      ],
      "metadata": {
        "colab": {
          "base_uri": "https://localhost:8080/"
        },
        "id": "af2kJGDIkfeN",
        "outputId": "b410b525-9e44-479c-8c09-60d901fed6e6"
      },
      "execution_count": 67,
      "outputs": [
        {
          "output_type": "stream",
          "name": "stdout",
          "text": [
            "mysql: [Warning] Using a password on the command line interface can be insecure.\n",
            "+---------------+---------------+------+-------+\n",
            "| pizza_id      | pizza_type_id | size | price |\n",
            "+---------------+---------------+------+-------+\n",
            "| bbq_ckn_s     | bbq_ckn       | S    | 12.75 |\n",
            "| bbq_ckn_m     | bbq_ckn       | M    | 16.75 |\n",
            "| bbq_ckn_l     | bbq_ckn       | L    | 20.75 |\n",
            "| cali_ckn_s    | cali_ckn      | S    | 12.75 |\n",
            "| cali_ckn_m    | cali_ckn      | M    | 16.75 |\n",
            "| cali_ckn_l    | cali_ckn      | L    | 20.75 |\n",
            "| ckn_alfredo_s | ckn_alfredo   | S    | 12.75 |\n",
            "| ckn_alfredo_m | ckn_alfredo   | M    | 16.75 |\n",
            "| ckn_alfredo_l | ckn_alfredo   | L    | 20.75 |\n",
            "| ckn_pesto_s   | ckn_pesto     | S    | 12.75 |\n",
            "+---------------+---------------+------+-------+\n"
          ]
        }
      ]
    },
    {
      "cell_type": "code",
      "source": [
        "!mysql -u root -proot -e \"use pizza_db; select round(sum(order_details.quantity * pizzas.price),2) as total_sales from order_details join pizzas on pizzas.pizza_id = order_details.pizza_id ;\""
      ],
      "metadata": {
        "colab": {
          "base_uri": "https://localhost:8080/"
        },
        "id": "6ciAJfg-mnHh",
        "outputId": "e1df1154-83e7-429d-b0aa-ab207ef2ae38"
      },
      "execution_count": 68,
      "outputs": [
        {
          "output_type": "stream",
          "name": "stdout",
          "text": [
            "mysql: [Warning] Using a password on the command line interface can be insecure.\n",
            "+-------------+\n",
            "| total_sales |\n",
            "+-------------+\n",
            "|   817860.05 |\n",
            "+-------------+\n"
          ]
        }
      ]
    },
    {
      "cell_type": "markdown",
      "source": [
        "# **3 Identify the highest-priced pizza.**\n",
        "## Finds the pizza with the highest price using ORDER BY and LIMIT."
      ],
      "metadata": {
        "id": "MyixZk0Dj87D"
      }
    },
    {
      "cell_type": "code",
      "source": [
        "!mysql -u root -proot -e 'use pizza_db; select * from pizza_types limit 10;'"
      ],
      "metadata": {
        "colab": {
          "base_uri": "https://localhost:8080/"
        },
        "id": "wqSDOIcrk4WY",
        "outputId": "73701c49-efdd-4789-bcbb-860dca419f58"
      },
      "execution_count": 12,
      "outputs": [
        {
          "output_type": "stream",
          "name": "stdout",
          "text": [
            "mysql: [Warning] Using a password on the command line interface can be insecure.\n",
            "+---------------+------------------------------+----------+----------------------------------------------------------------------------------------------+\n",
            "| pizza_type_id | name                         | category | ingredients                                                                                  |\n",
            "+---------------+------------------------------+----------+----------------------------------------------------------------------------------------------+\n",
            "| bbq_ckn       | The Barbecue Chicken Pizza   | Chicken  | Barbecued Chicken, Red Peppers, Green Peppers, Tomatoes, Red Onions, Barbecue Sauce          |\n",
            "| cali_ckn      | The California Chicken Pizza | Chicken  | Chicken, Artichoke, Spinach, Garlic, Jalapeno Peppers, Fontina Cheese, Gouda Cheese          |\n",
            "| ckn_alfredo   | The Chicken Alfredo Pizza    | Chicken  | Chicken, Red Onions, Red Peppers, Mushrooms, Asiago Cheese, Alfredo Sauce                    |\n",
            "| ckn_pesto     | The Chicken Pesto Pizza      | Chicken  | Chicken, Tomatoes, Red Peppers, Spinach, Garlic, Pesto Sauce                                 |\n",
            "| southw_ckn    | The Southwest Chicken Pizza  | Chicken  | Chicken, Tomatoes, Red Peppers, Red Onions, Jalapeno Peppers, Corn, Cilantro, Chipotle Sauce |\n",
            "| thai_ckn      | The Thai Chicken Pizza       | Chicken  | Chicken, Pineapple, Tomatoes, Red Peppers, Thai Sweet Chilli Sauce                           |\n",
            "| big_meat      | The Big Meat Pizza           | Classic  | Bacon, Pepperoni, Italian Sausage, Chorizo Sausage                                           |\n",
            "| classic_dlx   | The Classic Deluxe Pizza     | Classic  | Pepperoni, Mushrooms, Red Onions, Red Peppers, Bacon                                         |\n",
            "| hawaiian      | The Hawaiian Pizza           | Classic  | Sliced Ham, Pineapple, Mozzarella Cheese                                                     |\n",
            "| ital_cpcllo   | The Italian Capocollo Pizza  | Classic  | Capocollo, Red Peppers, Tomatoes, Goat Cheese, Garlic, Oregano                               |\n",
            "+---------------+------------------------------+----------+----------------------------------------------------------------------------------------------+\n"
          ]
        }
      ]
    },
    {
      "cell_type": "code",
      "source": [
        "!mysql -u root -proot -e 'use pizza_db; select * from pizzas limit 10;'"
      ],
      "metadata": {
        "colab": {
          "base_uri": "https://localhost:8080/"
        },
        "id": "_Th6x8pBk-m3",
        "outputId": "03407109-2e93-4f7c-9ac4-0b2a05d948d2"
      },
      "execution_count": 13,
      "outputs": [
        {
          "output_type": "stream",
          "name": "stdout",
          "text": [
            "mysql: [Warning] Using a password on the command line interface can be insecure.\n",
            "+---------------+---------------+------+-------+\n",
            "| pizza_id      | pizza_type_id | size | price |\n",
            "+---------------+---------------+------+-------+\n",
            "| bbq_ckn_s     | bbq_ckn       | S    | 12.75 |\n",
            "| bbq_ckn_m     | bbq_ckn       | M    | 16.75 |\n",
            "| bbq_ckn_l     | bbq_ckn       | L    | 20.75 |\n",
            "| cali_ckn_s    | cali_ckn      | S    | 12.75 |\n",
            "| cali_ckn_m    | cali_ckn      | M    | 16.75 |\n",
            "| cali_ckn_l    | cali_ckn      | L    | 20.75 |\n",
            "| ckn_alfredo_s | ckn_alfredo   | S    | 12.75 |\n",
            "| ckn_alfredo_m | ckn_alfredo   | M    | 16.75 |\n",
            "| ckn_alfredo_l | ckn_alfredo   | L    | 20.75 |\n",
            "| ckn_pesto_s   | ckn_pesto     | S    | 12.75 |\n",
            "+---------------+---------------+------+-------+\n"
          ]
        }
      ]
    },
    {
      "cell_type": "code",
      "source": [
        "!mysql -u root -proot -e \"use pizza_db; SELECT pizza_types.name, pizzas.price FROM pizza_types JOIN pizzas ON pizza_types.pizza_type_id = pizzas.pizza_type_id ORDER BY pizzas.price DESC LIMIT 1;\""
      ],
      "metadata": {
        "colab": {
          "base_uri": "https://localhost:8080/"
        },
        "id": "Bl9K2msumvQF",
        "outputId": "7cdec8ae-6a65-41b7-f3cc-8a4d839eb742"
      },
      "execution_count": 14,
      "outputs": [
        {
          "output_type": "stream",
          "name": "stdout",
          "text": [
            "mysql: [Warning] Using a password on the command line interface can be insecure.\n",
            "+-----------------+-------+\n",
            "| name            | price |\n",
            "+-----------------+-------+\n",
            "| The Greek Pizza | 35.95 |\n",
            "+-----------------+-------+\n"
          ]
        }
      ]
    },
    {
      "cell_type": "markdown",
      "source": [
        "# **4 Identify the most common pizza size ordered.**\n",
        "\n",
        "## Groups orders by size and returns the most frequently ordered size."
      ],
      "metadata": {
        "id": "HTOAJbm0lQbP"
      }
    },
    {
      "cell_type": "code",
      "source": [
        "!mysql -u root -proot -e 'use pizza_db; select * from pizzas limit 10;'"
      ],
      "metadata": {
        "colab": {
          "base_uri": "https://localhost:8080/"
        },
        "id": "th5j4xxIlnHy",
        "outputId": "c1fc2ce8-3618-4cf9-c896-716b927bb3da"
      },
      "execution_count": 15,
      "outputs": [
        {
          "output_type": "stream",
          "name": "stdout",
          "text": [
            "mysql: [Warning] Using a password on the command line interface can be insecure.\n",
            "+---------------+---------------+------+-------+\n",
            "| pizza_id      | pizza_type_id | size | price |\n",
            "+---------------+---------------+------+-------+\n",
            "| bbq_ckn_s     | bbq_ckn       | S    | 12.75 |\n",
            "| bbq_ckn_m     | bbq_ckn       | M    | 16.75 |\n",
            "| bbq_ckn_l     | bbq_ckn       | L    | 20.75 |\n",
            "| cali_ckn_s    | cali_ckn      | S    | 12.75 |\n",
            "| cali_ckn_m    | cali_ckn      | M    | 16.75 |\n",
            "| cali_ckn_l    | cali_ckn      | L    | 20.75 |\n",
            "| ckn_alfredo_s | ckn_alfredo   | S    | 12.75 |\n",
            "| ckn_alfredo_m | ckn_alfredo   | M    | 16.75 |\n",
            "| ckn_alfredo_l | ckn_alfredo   | L    | 20.75 |\n",
            "| ckn_pesto_s   | ckn_pesto     | S    | 12.75 |\n",
            "+---------------+---------------+------+-------+\n"
          ]
        }
      ]
    },
    {
      "cell_type": "code",
      "source": [
        "!mysql -u root -proot -e 'use pizza_db; select * from order_details limit 10;'"
      ],
      "metadata": {
        "colab": {
          "base_uri": "https://localhost:8080/"
        },
        "id": "q0gO6Z_qlt4m",
        "outputId": "b5c5978e-c86d-4464-8365-a17c6c3d818c"
      },
      "execution_count": 16,
      "outputs": [
        {
          "output_type": "stream",
          "name": "stdout",
          "text": [
            "mysql: [Warning] Using a password on the command line interface can be insecure.\n",
            "+------------------+----------+---------------+----------+\n",
            "| order_details_id | order_id | pizza_id      | quantity |\n",
            "+------------------+----------+---------------+----------+\n",
            "|                1 |        1 | hawaiian_m    |        1 |\n",
            "|                2 |        2 | classic_dlx_m |        1 |\n",
            "|                3 |        2 | five_cheese_l |        1 |\n",
            "|                4 |        2 | ital_supr_l   |        1 |\n",
            "|                5 |        2 | mexicana_m    |        1 |\n",
            "|                6 |        2 | thai_ckn_l    |        1 |\n",
            "|                7 |        3 | ital_supr_m   |        1 |\n",
            "|                8 |        3 | prsc_argla_l  |        1 |\n",
            "|                9 |        4 | ital_supr_m   |        1 |\n",
            "|               10 |        5 | ital_supr_m   |        1 |\n",
            "+------------------+----------+---------------+----------+\n"
          ]
        }
      ]
    },
    {
      "cell_type": "code",
      "source": [
        "!mysql -u root -proot -e \"use pizza_db; select pizzas.size, count(order_details.order_details_id) as order_count from pizzas join order_details on pizzas.pizza_id = order_details.pizza_id group by pizzas.size order by order_count desc;\""
      ],
      "metadata": {
        "colab": {
          "base_uri": "https://localhost:8080/"
        },
        "id": "8oJF04jfnSa2",
        "outputId": "cb7c3448-295b-443c-9b76-dd36c861fd78"
      },
      "execution_count": 17,
      "outputs": [
        {
          "output_type": "stream",
          "name": "stdout",
          "text": [
            "mysql: [Warning] Using a password on the command line interface can be insecure.\n",
            "+------+-------------+\n",
            "| size | order_count |\n",
            "+------+-------------+\n",
            "| L    |       18526 |\n",
            "| M    |       15385 |\n",
            "| S    |       14137 |\n",
            "| XL   |         544 |\n",
            "| XXL  |          28 |\n",
            "+------+-------------+\n"
          ]
        }
      ]
    },
    {
      "cell_type": "markdown",
      "source": [
        "# **5 List the top 5 most ordered pizza types along with their quantities.**\n",
        "## Ranks pizza types by total quantity ordered and returns the top 5."
      ],
      "metadata": {
        "id": "GWUOn5oEmFF2"
      }
    },
    {
      "cell_type": "code",
      "source": [
        "!mysql -u root -proot -e 'use pizza_db; select * from order_details limit 10;'"
      ],
      "metadata": {
        "colab": {
          "base_uri": "https://localhost:8080/"
        },
        "id": "oLcuzOlRmVxv",
        "outputId": "2a5ec209-c8bc-481a-ca71-a3b10462c1f4"
      },
      "execution_count": 18,
      "outputs": [
        {
          "output_type": "stream",
          "name": "stdout",
          "text": [
            "mysql: [Warning] Using a password on the command line interface can be insecure.\n",
            "+------------------+----------+---------------+----------+\n",
            "| order_details_id | order_id | pizza_id      | quantity |\n",
            "+------------------+----------+---------------+----------+\n",
            "|                1 |        1 | hawaiian_m    |        1 |\n",
            "|                2 |        2 | classic_dlx_m |        1 |\n",
            "|                3 |        2 | five_cheese_l |        1 |\n",
            "|                4 |        2 | ital_supr_l   |        1 |\n",
            "|                5 |        2 | mexicana_m    |        1 |\n",
            "|                6 |        2 | thai_ckn_l    |        1 |\n",
            "|                7 |        3 | ital_supr_m   |        1 |\n",
            "|                8 |        3 | prsc_argla_l  |        1 |\n",
            "|                9 |        4 | ital_supr_m   |        1 |\n",
            "|               10 |        5 | ital_supr_m   |        1 |\n",
            "+------------------+----------+---------------+----------+\n"
          ]
        }
      ]
    },
    {
      "cell_type": "code",
      "source": [
        "!mysql -u root -proot -e 'use pizza_db; select * from pizzas limit 10;'"
      ],
      "metadata": {
        "colab": {
          "base_uri": "https://localhost:8080/"
        },
        "id": "wQsSkXj2mbdN",
        "outputId": "1945bdfe-26b5-4e41-f54b-70e824a91363"
      },
      "execution_count": 19,
      "outputs": [
        {
          "output_type": "stream",
          "name": "stdout",
          "text": [
            "mysql: [Warning] Using a password on the command line interface can be insecure.\n",
            "+---------------+---------------+------+-------+\n",
            "| pizza_id      | pizza_type_id | size | price |\n",
            "+---------------+---------------+------+-------+\n",
            "| bbq_ckn_s     | bbq_ckn       | S    | 12.75 |\n",
            "| bbq_ckn_m     | bbq_ckn       | M    | 16.75 |\n",
            "| bbq_ckn_l     | bbq_ckn       | L    | 20.75 |\n",
            "| cali_ckn_s    | cali_ckn      | S    | 12.75 |\n",
            "| cali_ckn_m    | cali_ckn      | M    | 16.75 |\n",
            "| cali_ckn_l    | cali_ckn      | L    | 20.75 |\n",
            "| ckn_alfredo_s | ckn_alfredo   | S    | 12.75 |\n",
            "| ckn_alfredo_m | ckn_alfredo   | M    | 16.75 |\n",
            "| ckn_alfredo_l | ckn_alfredo   | L    | 20.75 |\n",
            "| ckn_pesto_s   | ckn_pesto     | S    | 12.75 |\n",
            "+---------------+---------------+------+-------+\n"
          ]
        }
      ]
    },
    {
      "cell_type": "code",
      "source": [
        "!mysql -u root -proot -e 'use pizza_db; select * from pizza_types limit 10;'"
      ],
      "metadata": {
        "colab": {
          "base_uri": "https://localhost:8080/"
        },
        "id": "7Ye-6y-Qni4h",
        "outputId": "b6914a58-a3d4-4042-b71c-f5f3d2cfcc77"
      },
      "execution_count": 20,
      "outputs": [
        {
          "output_type": "stream",
          "name": "stdout",
          "text": [
            "mysql: [Warning] Using a password on the command line interface can be insecure.\n",
            "+---------------+------------------------------+----------+----------------------------------------------------------------------------------------------+\n",
            "| pizza_type_id | name                         | category | ingredients                                                                                  |\n",
            "+---------------+------------------------------+----------+----------------------------------------------------------------------------------------------+\n",
            "| bbq_ckn       | The Barbecue Chicken Pizza   | Chicken  | Barbecued Chicken, Red Peppers, Green Peppers, Tomatoes, Red Onions, Barbecue Sauce          |\n",
            "| cali_ckn      | The California Chicken Pizza | Chicken  | Chicken, Artichoke, Spinach, Garlic, Jalapeno Peppers, Fontina Cheese, Gouda Cheese          |\n",
            "| ckn_alfredo   | The Chicken Alfredo Pizza    | Chicken  | Chicken, Red Onions, Red Peppers, Mushrooms, Asiago Cheese, Alfredo Sauce                    |\n",
            "| ckn_pesto     | The Chicken Pesto Pizza      | Chicken  | Chicken, Tomatoes, Red Peppers, Spinach, Garlic, Pesto Sauce                                 |\n",
            "| southw_ckn    | The Southwest Chicken Pizza  | Chicken  | Chicken, Tomatoes, Red Peppers, Red Onions, Jalapeno Peppers, Corn, Cilantro, Chipotle Sauce |\n",
            "| thai_ckn      | The Thai Chicken Pizza       | Chicken  | Chicken, Pineapple, Tomatoes, Red Peppers, Thai Sweet Chilli Sauce                           |\n",
            "| big_meat      | The Big Meat Pizza           | Classic  | Bacon, Pepperoni, Italian Sausage, Chorizo Sausage                                           |\n",
            "| classic_dlx   | The Classic Deluxe Pizza     | Classic  | Pepperoni, Mushrooms, Red Onions, Red Peppers, Bacon                                         |\n",
            "| hawaiian      | The Hawaiian Pizza           | Classic  | Sliced Ham, Pineapple, Mozzarella Cheese                                                     |\n",
            "| ital_cpcllo   | The Italian Capocollo Pizza  | Classic  | Capocollo, Red Peppers, Tomatoes, Goat Cheese, Garlic, Oregano                               |\n",
            "+---------------+------------------------------+----------+----------------------------------------------------------------------------------------------+\n"
          ]
        }
      ]
    },
    {
      "cell_type": "code",
      "source": [
        "!mysql -u root -proot -e \"use pizza_db; select pizza_types.name , sum(order_details.quantity) as quantity from pizza_types join pizzas on pizza_types.pizza_type_id = pizzas.pizza_type_id join order_details on order_details.pizza_id = pizzas.pizza_id group by pizza_types.name order by quantity desc limit 5;\""
      ],
      "metadata": {
        "colab": {
          "base_uri": "https://localhost:8080/"
        },
        "id": "qSy6IcMCngUO",
        "outputId": "86f7806e-d138-45a2-8c70-322bcf07c9ce"
      },
      "execution_count": 21,
      "outputs": [
        {
          "output_type": "stream",
          "name": "stdout",
          "text": [
            "mysql: [Warning] Using a password on the command line interface can be insecure.\n",
            "+----------------------------+----------+\n",
            "| name                       | quantity |\n",
            "+----------------------------+----------+\n",
            "| The Classic Deluxe Pizza   |     2453 |\n",
            "| The Barbecue Chicken Pizza |     2432 |\n",
            "| The Hawaiian Pizza         |     2422 |\n",
            "| The Pepperoni Pizza        |     2418 |\n",
            "| The Thai Chicken Pizza     |     2371 |\n",
            "+----------------------------+----------+\n"
          ]
        }
      ]
    },
    {
      "cell_type": "markdown",
      "source": [
        "# **Intermediate level**"
      ],
      "metadata": {
        "id": "wU4ov22gn9hJ"
      }
    },
    {
      "cell_type": "markdown",
      "source": [
        "# **6 Find the total quantity of each pizza category ordered.**\n",
        "\n",
        "## Groups by category and sums up the quantities ordered."
      ],
      "metadata": {
        "id": "QijKlwU2oARs"
      }
    },
    {
      "cell_type": "code",
      "source": [
        "!mysql -u root -proot -e 'use pizza_db; select * from pizza_types limit 10;'"
      ],
      "metadata": {
        "colab": {
          "base_uri": "https://localhost:8080/"
        },
        "id": "X1S0d3-UoWnp",
        "outputId": "442edce0-4c06-4264-ad37-ba0636fc681e"
      },
      "execution_count": 22,
      "outputs": [
        {
          "output_type": "stream",
          "name": "stdout",
          "text": [
            "mysql: [Warning] Using a password on the command line interface can be insecure.\n",
            "+---------------+------------------------------+----------+----------------------------------------------------------------------------------------------+\n",
            "| pizza_type_id | name                         | category | ingredients                                                                                  |\n",
            "+---------------+------------------------------+----------+----------------------------------------------------------------------------------------------+\n",
            "| bbq_ckn       | The Barbecue Chicken Pizza   | Chicken  | Barbecued Chicken, Red Peppers, Green Peppers, Tomatoes, Red Onions, Barbecue Sauce          |\n",
            "| cali_ckn      | The California Chicken Pizza | Chicken  | Chicken, Artichoke, Spinach, Garlic, Jalapeno Peppers, Fontina Cheese, Gouda Cheese          |\n",
            "| ckn_alfredo   | The Chicken Alfredo Pizza    | Chicken  | Chicken, Red Onions, Red Peppers, Mushrooms, Asiago Cheese, Alfredo Sauce                    |\n",
            "| ckn_pesto     | The Chicken Pesto Pizza      | Chicken  | Chicken, Tomatoes, Red Peppers, Spinach, Garlic, Pesto Sauce                                 |\n",
            "| southw_ckn    | The Southwest Chicken Pizza  | Chicken  | Chicken, Tomatoes, Red Peppers, Red Onions, Jalapeno Peppers, Corn, Cilantro, Chipotle Sauce |\n",
            "| thai_ckn      | The Thai Chicken Pizza       | Chicken  | Chicken, Pineapple, Tomatoes, Red Peppers, Thai Sweet Chilli Sauce                           |\n",
            "| big_meat      | The Big Meat Pizza           | Classic  | Bacon, Pepperoni, Italian Sausage, Chorizo Sausage                                           |\n",
            "| classic_dlx   | The Classic Deluxe Pizza     | Classic  | Pepperoni, Mushrooms, Red Onions, Red Peppers, Bacon                                         |\n",
            "| hawaiian      | The Hawaiian Pizza           | Classic  | Sliced Ham, Pineapple, Mozzarella Cheese                                                     |\n",
            "| ital_cpcllo   | The Italian Capocollo Pizza  | Classic  | Capocollo, Red Peppers, Tomatoes, Goat Cheese, Garlic, Oregano                               |\n",
            "+---------------+------------------------------+----------+----------------------------------------------------------------------------------------------+\n"
          ]
        }
      ]
    },
    {
      "cell_type": "code",
      "source": [
        "!mysql -u root -proot -e 'use pizza_db; select * from order_details limit 10;'"
      ],
      "metadata": {
        "colab": {
          "base_uri": "https://localhost:8080/"
        },
        "id": "R0k7VU6XodJ3",
        "outputId": "f00d01c2-1950-41ca-edea-db66d8002cee"
      },
      "execution_count": 23,
      "outputs": [
        {
          "output_type": "stream",
          "name": "stdout",
          "text": [
            "mysql: [Warning] Using a password on the command line interface can be insecure.\n",
            "+------------------+----------+---------------+----------+\n",
            "| order_details_id | order_id | pizza_id      | quantity |\n",
            "+------------------+----------+---------------+----------+\n",
            "|                1 |        1 | hawaiian_m    |        1 |\n",
            "|                2 |        2 | classic_dlx_m |        1 |\n",
            "|                3 |        2 | five_cheese_l |        1 |\n",
            "|                4 |        2 | ital_supr_l   |        1 |\n",
            "|                5 |        2 | mexicana_m    |        1 |\n",
            "|                6 |        2 | thai_ckn_l    |        1 |\n",
            "|                7 |        3 | ital_supr_m   |        1 |\n",
            "|                8 |        3 | prsc_argla_l  |        1 |\n",
            "|                9 |        4 | ital_supr_m   |        1 |\n",
            "|               10 |        5 | ital_supr_m   |        1 |\n",
            "+------------------+----------+---------------+----------+\n"
          ]
        }
      ]
    },
    {
      "cell_type": "code",
      "source": [
        "!mysql -u root -proot -e \"use pizza_db; select pizza_types.category, sum(order_details.quantity) as quantity from pizza_types join pizzas on pizza_types.pizza_type_id = pizzas.pizza_type_id join order_details on order_details.pizza_id = pizzas.pizza_id group by pizza_types.category order by quantity desc;\""
      ],
      "metadata": {
        "colab": {
          "base_uri": "https://localhost:8080/"
        },
        "id": "zFdOG8hlnoi2",
        "outputId": "e8d045cc-1c67-482a-e6ef-5a74b8f4779c"
      },
      "execution_count": 24,
      "outputs": [
        {
          "output_type": "stream",
          "name": "stdout",
          "text": [
            "mysql: [Warning] Using a password on the command line interface can be insecure.\n",
            "+----------+----------+\n",
            "| category | quantity |\n",
            "+----------+----------+\n",
            "| Classic  |    14888 |\n",
            "| Supreme  |    11987 |\n",
            "| Veggie   |    11649 |\n",
            "| Chicken  |    11050 |\n",
            "+----------+----------+\n"
          ]
        }
      ]
    },
    {
      "cell_type": "markdown",
      "source": [
        "# **7 Determine the distribution of orders by hour of the day.**\n",
        "## Extracts hour from the order time and counts how many orders per hour."
      ],
      "metadata": {
        "id": "bFPmsWSAosrE"
      }
    },
    {
      "cell_type": "code",
      "source": [
        "!mysql -u root -proot -e 'use pizza_db; select * from orders limit 10;'"
      ],
      "metadata": {
        "colab": {
          "base_uri": "https://localhost:8080/"
        },
        "id": "EvD5wNxao-_d",
        "outputId": "78a19da1-21ab-4ad1-c202-a81d958ecbba"
      },
      "execution_count": 25,
      "outputs": [
        {
          "output_type": "stream",
          "name": "stdout",
          "text": [
            "mysql: [Warning] Using a password on the command line interface can be insecure.\n",
            "+----------+------------+----------+\n",
            "| order_id | date       | time     |\n",
            "+----------+------------+----------+\n",
            "|        1 | 2015-01-01 | 11:38:36 |\n",
            "|        2 | 2015-01-01 | 11:57:40 |\n",
            "|        3 | 2015-01-01 | 12:12:28 |\n",
            "|        4 | 2015-01-01 | 12:16:31 |\n",
            "|        5 | 2015-01-01 | 12:21:30 |\n",
            "|        6 | 2015-01-01 | 12:29:36 |\n",
            "|        7 | 2015-01-01 | 12:50:37 |\n",
            "|        8 | 2015-01-01 | 12:51:37 |\n",
            "|        9 | 2015-01-01 | 12:52:01 |\n",
            "|       10 | 2015-01-01 | 13:00:15 |\n",
            "+----------+------------+----------+\n"
          ]
        }
      ]
    },
    {
      "cell_type": "code",
      "source": [
        "!mysql -u root -proot -e \"use pizza_db; SELECT HOUR(time) AS hour, COUNT(order_id) AS order_count FROM orders GROUP BY HOUR(time);\""
      ],
      "metadata": {
        "colab": {
          "base_uri": "https://localhost:8080/"
        },
        "id": "bg71dN7Onx7K",
        "outputId": "f3d4b7b0-b09d-4223-828e-06d48288d490"
      },
      "execution_count": 26,
      "outputs": [
        {
          "output_type": "stream",
          "name": "stdout",
          "text": [
            "mysql: [Warning] Using a password on the command line interface can be insecure.\n",
            "+------+-------------+\n",
            "| hour | order_count |\n",
            "+------+-------------+\n",
            "|   11 |        1231 |\n",
            "|   12 |        2520 |\n",
            "|   13 |        2455 |\n",
            "|   14 |        1472 |\n",
            "|   15 |        1468 |\n",
            "|   16 |        1920 |\n",
            "|   17 |        2336 |\n",
            "|   18 |        2399 |\n",
            "|   19 |        2009 |\n",
            "|   20 |        1642 |\n",
            "|   21 |        1198 |\n",
            "|   22 |         663 |\n",
            "|   23 |          28 |\n",
            "|   10 |           8 |\n",
            "|    9 |           1 |\n",
            "+------+-------------+\n"
          ]
        }
      ]
    },
    {
      "cell_type": "markdown",
      "source": [
        "# **8 Category-wise distribution of pizzas.**\n",
        "\n",
        "## Counts the number of pizzas in each category."
      ],
      "metadata": {
        "id": "DoAlOF08pcZt"
      }
    },
    {
      "cell_type": "code",
      "source": [
        "!mysql -u root -proot -e 'use pizza_db; select * from pizza_types limit 10;'"
      ],
      "metadata": {
        "colab": {
          "base_uri": "https://localhost:8080/"
        },
        "id": "DiW4FU1tpsAp",
        "outputId": "efa1869c-3e26-456d-abb0-326d218fe3eb"
      },
      "execution_count": 27,
      "outputs": [
        {
          "output_type": "stream",
          "name": "stdout",
          "text": [
            "mysql: [Warning] Using a password on the command line interface can be insecure.\n",
            "+---------------+------------------------------+----------+----------------------------------------------------------------------------------------------+\n",
            "| pizza_type_id | name                         | category | ingredients                                                                                  |\n",
            "+---------------+------------------------------+----------+----------------------------------------------------------------------------------------------+\n",
            "| bbq_ckn       | The Barbecue Chicken Pizza   | Chicken  | Barbecued Chicken, Red Peppers, Green Peppers, Tomatoes, Red Onions, Barbecue Sauce          |\n",
            "| cali_ckn      | The California Chicken Pizza | Chicken  | Chicken, Artichoke, Spinach, Garlic, Jalapeno Peppers, Fontina Cheese, Gouda Cheese          |\n",
            "| ckn_alfredo   | The Chicken Alfredo Pizza    | Chicken  | Chicken, Red Onions, Red Peppers, Mushrooms, Asiago Cheese, Alfredo Sauce                    |\n",
            "| ckn_pesto     | The Chicken Pesto Pizza      | Chicken  | Chicken, Tomatoes, Red Peppers, Spinach, Garlic, Pesto Sauce                                 |\n",
            "| southw_ckn    | The Southwest Chicken Pizza  | Chicken  | Chicken, Tomatoes, Red Peppers, Red Onions, Jalapeno Peppers, Corn, Cilantro, Chipotle Sauce |\n",
            "| thai_ckn      | The Thai Chicken Pizza       | Chicken  | Chicken, Pineapple, Tomatoes, Red Peppers, Thai Sweet Chilli Sauce                           |\n",
            "| big_meat      | The Big Meat Pizza           | Classic  | Bacon, Pepperoni, Italian Sausage, Chorizo Sausage                                           |\n",
            "| classic_dlx   | The Classic Deluxe Pizza     | Classic  | Pepperoni, Mushrooms, Red Onions, Red Peppers, Bacon                                         |\n",
            "| hawaiian      | The Hawaiian Pizza           | Classic  | Sliced Ham, Pineapple, Mozzarella Cheese                                                     |\n",
            "| ital_cpcllo   | The Italian Capocollo Pizza  | Classic  | Capocollo, Red Peppers, Tomatoes, Goat Cheese, Garlic, Oregano                               |\n",
            "+---------------+------------------------------+----------+----------------------------------------------------------------------------------------------+\n"
          ]
        }
      ]
    },
    {
      "cell_type": "code",
      "source": [
        "!mysql -u root -proot -e \"use pizza_db; select category, count(name) from pizza_types group by category;\""
      ],
      "metadata": {
        "colab": {
          "base_uri": "https://localhost:8080/"
        },
        "id": "vsUIi7hun5T0",
        "outputId": "7262050d-f9aa-416f-c986-3752acefabb2"
      },
      "execution_count": 28,
      "outputs": [
        {
          "output_type": "stream",
          "name": "stdout",
          "text": [
            "mysql: [Warning] Using a password on the command line interface can be insecure.\n",
            "+----------+-------------+\n",
            "| category | count(name) |\n",
            "+----------+-------------+\n",
            "| Chicken  |           6 |\n",
            "| Classic  |           8 |\n",
            "| Supreme  |           9 |\n",
            "| Veggie   |           9 |\n",
            "+----------+-------------+\n"
          ]
        }
      ]
    },
    {
      "cell_type": "markdown",
      "source": [
        "# **9 Group the orders by date and calculate the average number of pizzas ordered per day.**\n",
        "## Aggregates daily pizza quantities and computes their average."
      ],
      "metadata": {
        "id": "1HA8GK8tq2SZ"
      }
    },
    {
      "cell_type": "code",
      "source": [
        "!mysql -u root -proot -e 'use pizza_db; select * from orders limit 10;'"
      ],
      "metadata": {
        "colab": {
          "base_uri": "https://localhost:8080/"
        },
        "id": "JQ5oMlK0rvEO",
        "outputId": "c749a126-a69d-4c0b-b3cb-601f5793e49e"
      },
      "execution_count": 29,
      "outputs": [
        {
          "output_type": "stream",
          "name": "stdout",
          "text": [
            "mysql: [Warning] Using a password on the command line interface can be insecure.\n",
            "+----------+------------+----------+\n",
            "| order_id | date       | time     |\n",
            "+----------+------------+----------+\n",
            "|        1 | 2015-01-01 | 11:38:36 |\n",
            "|        2 | 2015-01-01 | 11:57:40 |\n",
            "|        3 | 2015-01-01 | 12:12:28 |\n",
            "|        4 | 2015-01-01 | 12:16:31 |\n",
            "|        5 | 2015-01-01 | 12:21:30 |\n",
            "|        6 | 2015-01-01 | 12:29:36 |\n",
            "|        7 | 2015-01-01 | 12:50:37 |\n",
            "|        8 | 2015-01-01 | 12:51:37 |\n",
            "|        9 | 2015-01-01 | 12:52:01 |\n",
            "|       10 | 2015-01-01 | 13:00:15 |\n",
            "+----------+------------+----------+\n"
          ]
        }
      ]
    },
    {
      "cell_type": "code",
      "source": [
        "!mysql -u root -proot -e 'use pizza_db; select * from order_details limit 10;'"
      ],
      "metadata": {
        "colab": {
          "base_uri": "https://localhost:8080/"
        },
        "id": "PN7IQFq0rvAx",
        "outputId": "d1f96e18-131a-482c-ffa9-c2612bacb97d"
      },
      "execution_count": 30,
      "outputs": [
        {
          "output_type": "stream",
          "name": "stdout",
          "text": [
            "mysql: [Warning] Using a password on the command line interface can be insecure.\n",
            "+------------------+----------+---------------+----------+\n",
            "| order_details_id | order_id | pizza_id      | quantity |\n",
            "+------------------+----------+---------------+----------+\n",
            "|                1 |        1 | hawaiian_m    |        1 |\n",
            "|                2 |        2 | classic_dlx_m |        1 |\n",
            "|                3 |        2 | five_cheese_l |        1 |\n",
            "|                4 |        2 | ital_supr_l   |        1 |\n",
            "|                5 |        2 | mexicana_m    |        1 |\n",
            "|                6 |        2 | thai_ckn_l    |        1 |\n",
            "|                7 |        3 | ital_supr_m   |        1 |\n",
            "|                8 |        3 | prsc_argla_l  |        1 |\n",
            "|                9 |        4 | ital_supr_m   |        1 |\n",
            "|               10 |        5 | ital_supr_m   |        1 |\n",
            "+------------------+----------+---------------+----------+\n"
          ]
        }
      ]
    },
    {
      "cell_type": "code",
      "source": [
        "!mysql -u root -proot -e \"use pizza_db; select round(avg(quantity), 0) as avg_pizzas_ordered_per_day from (select orders.date, sum(order_details.quantity) as quantity from orders join order_details on orders.order_id = order_details.order_id group by orders.date) as order_quantity;\""
      ],
      "metadata": {
        "colab": {
          "base_uri": "https://localhost:8080/"
        },
        "id": "ASQyybHfoBtl",
        "outputId": "06779d74-c41c-4bc6-8a41-39833514c9d3"
      },
      "execution_count": 31,
      "outputs": [
        {
          "output_type": "stream",
          "name": "stdout",
          "text": [
            "mysql: [Warning] Using a password on the command line interface can be insecure.\n",
            "+----------------------------+\n",
            "| avg_pizzas_ordered_per_day |\n",
            "+----------------------------+\n",
            "|                        138 |\n",
            "+----------------------------+\n"
          ]
        }
      ]
    },
    {
      "cell_type": "markdown",
      "source": [
        "# **10 Top 3 most ordered pizza types by revenue.**\n",
        "## Calculates revenue by pizza type and ranks them to get the top 3."
      ],
      "metadata": {
        "id": "75QE-JnjsOf-"
      }
    },
    {
      "cell_type": "code",
      "source": [
        "!mysql -u root -proot -e 'use pizza_db; select * from pizza_types limit 10;'"
      ],
      "metadata": {
        "colab": {
          "base_uri": "https://localhost:8080/"
        },
        "id": "q6y4XcdzsZAj",
        "outputId": "659bda4d-d7cb-44fd-e304-ba41b89d15ba"
      },
      "execution_count": 32,
      "outputs": [
        {
          "output_type": "stream",
          "name": "stdout",
          "text": [
            "mysql: [Warning] Using a password on the command line interface can be insecure.\n",
            "+---------------+------------------------------+----------+----------------------------------------------------------------------------------------------+\n",
            "| pizza_type_id | name                         | category | ingredients                                                                                  |\n",
            "+---------------+------------------------------+----------+----------------------------------------------------------------------------------------------+\n",
            "| bbq_ckn       | The Barbecue Chicken Pizza   | Chicken  | Barbecued Chicken, Red Peppers, Green Peppers, Tomatoes, Red Onions, Barbecue Sauce          |\n",
            "| cali_ckn      | The California Chicken Pizza | Chicken  | Chicken, Artichoke, Spinach, Garlic, Jalapeno Peppers, Fontina Cheese, Gouda Cheese          |\n",
            "| ckn_alfredo   | The Chicken Alfredo Pizza    | Chicken  | Chicken, Red Onions, Red Peppers, Mushrooms, Asiago Cheese, Alfredo Sauce                    |\n",
            "| ckn_pesto     | The Chicken Pesto Pizza      | Chicken  | Chicken, Tomatoes, Red Peppers, Spinach, Garlic, Pesto Sauce                                 |\n",
            "| southw_ckn    | The Southwest Chicken Pizza  | Chicken  | Chicken, Tomatoes, Red Peppers, Red Onions, Jalapeno Peppers, Corn, Cilantro, Chipotle Sauce |\n",
            "| thai_ckn      | The Thai Chicken Pizza       | Chicken  | Chicken, Pineapple, Tomatoes, Red Peppers, Thai Sweet Chilli Sauce                           |\n",
            "| big_meat      | The Big Meat Pizza           | Classic  | Bacon, Pepperoni, Italian Sausage, Chorizo Sausage                                           |\n",
            "| classic_dlx   | The Classic Deluxe Pizza     | Classic  | Pepperoni, Mushrooms, Red Onions, Red Peppers, Bacon                                         |\n",
            "| hawaiian      | The Hawaiian Pizza           | Classic  | Sliced Ham, Pineapple, Mozzarella Cheese                                                     |\n",
            "| ital_cpcllo   | The Italian Capocollo Pizza  | Classic  | Capocollo, Red Peppers, Tomatoes, Goat Cheese, Garlic, Oregano                               |\n",
            "+---------------+------------------------------+----------+----------------------------------------------------------------------------------------------+\n"
          ]
        }
      ]
    },
    {
      "cell_type": "code",
      "source": [
        "!mysql -u root -proot -e 'use pizza_db; select * from order_details limit 10;'"
      ],
      "metadata": {
        "colab": {
          "base_uri": "https://localhost:8080/"
        },
        "id": "9A9KL4qxscq8",
        "outputId": "875ed6ce-2f55-4999-853b-143c0fd75f62"
      },
      "execution_count": 33,
      "outputs": [
        {
          "output_type": "stream",
          "name": "stdout",
          "text": [
            "mysql: [Warning] Using a password on the command line interface can be insecure.\n",
            "+------------------+----------+---------------+----------+\n",
            "| order_details_id | order_id | pizza_id      | quantity |\n",
            "+------------------+----------+---------------+----------+\n",
            "|                1 |        1 | hawaiian_m    |        1 |\n",
            "|                2 |        2 | classic_dlx_m |        1 |\n",
            "|                3 |        2 | five_cheese_l |        1 |\n",
            "|                4 |        2 | ital_supr_l   |        1 |\n",
            "|                5 |        2 | mexicana_m    |        1 |\n",
            "|                6 |        2 | thai_ckn_l    |        1 |\n",
            "|                7 |        3 | ital_supr_m   |        1 |\n",
            "|                8 |        3 | prsc_argla_l  |        1 |\n",
            "|                9 |        4 | ital_supr_m   |        1 |\n",
            "|               10 |        5 | ital_supr_m   |        1 |\n",
            "+------------------+----------+---------------+----------+\n"
          ]
        }
      ]
    },
    {
      "cell_type": "code",
      "source": [
        "!mysql -u root -proot -e 'use pizza_db; select * from pizzas limit 10;'"
      ],
      "metadata": {
        "colab": {
          "base_uri": "https://localhost:8080/"
        },
        "id": "bT67uWnxsijQ",
        "outputId": "b8cb5768-da7e-4164-bf6e-47dcad90a2e7"
      },
      "execution_count": 34,
      "outputs": [
        {
          "output_type": "stream",
          "name": "stdout",
          "text": [
            "mysql: [Warning] Using a password on the command line interface can be insecure.\n",
            "+---------------+---------------+------+-------+\n",
            "| pizza_id      | pizza_type_id | size | price |\n",
            "+---------------+---------------+------+-------+\n",
            "| bbq_ckn_s     | bbq_ckn       | S    | 12.75 |\n",
            "| bbq_ckn_m     | bbq_ckn       | M    | 16.75 |\n",
            "| bbq_ckn_l     | bbq_ckn       | L    | 20.75 |\n",
            "| cali_ckn_s    | cali_ckn      | S    | 12.75 |\n",
            "| cali_ckn_m    | cali_ckn      | M    | 16.75 |\n",
            "| cali_ckn_l    | cali_ckn      | L    | 20.75 |\n",
            "| ckn_alfredo_s | ckn_alfredo   | S    | 12.75 |\n",
            "| ckn_alfredo_m | ckn_alfredo   | M    | 16.75 |\n",
            "| ckn_alfredo_l | ckn_alfredo   | L    | 20.75 |\n",
            "| ckn_pesto_s   | ckn_pesto     | S    | 12.75 |\n",
            "+---------------+---------------+------+-------+\n"
          ]
        }
      ]
    },
    {
      "cell_type": "code",
      "source": [
        "!mysql -u root -proot -e \"use pizza_db; select pizza_types.name, sum(order_details.quantity * pizzas.price) as revenue from pizza_types join pizzas on pizzas.pizza_type_id = pizza_types.pizza_type_id join order_details on order_details.pizza_id = pizzas.pizza_id group by pizza_types.name order by revenue desc limit 3;\""
      ],
      "metadata": {
        "colab": {
          "base_uri": "https://localhost:8080/"
        },
        "id": "fCrN7ZVnoLGu",
        "outputId": "8dbc9b8f-b05d-4db4-b8e0-f671a17821fe"
      },
      "execution_count": 35,
      "outputs": [
        {
          "output_type": "stream",
          "name": "stdout",
          "text": [
            "mysql: [Warning] Using a password on the command line interface can be insecure.\n",
            "+------------------------------+----------+\n",
            "| name                         | revenue  |\n",
            "+------------------------------+----------+\n",
            "| The Thai Chicken Pizza       | 43434.25 |\n",
            "| The Barbecue Chicken Pizza   |    42768 |\n",
            "| The California Chicken Pizza |  41409.5 |\n",
            "+------------------------------+----------+\n"
          ]
        }
      ]
    },
    {
      "cell_type": "markdown",
      "source": [
        "# **Advanced level**"
      ],
      "metadata": {
        "id": "KDr2tkHbswpQ"
      }
    },
    {
      "cell_type": "markdown",
      "source": [
        "# **11 Revenue percentage contribution by category.**\n",
        "## Computes each category's revenue as a percentage of total revenue."
      ],
      "metadata": {
        "id": "389QFjwbsrna"
      }
    },
    {
      "cell_type": "code",
      "source": [
        "!mysql -u root -proot -e 'use pizza_db; select * from order_details limit 10;'"
      ],
      "metadata": {
        "colab": {
          "base_uri": "https://localhost:8080/"
        },
        "id": "mnHEgL7ntHTy",
        "outputId": "04cd68b2-8d89-4f01-fe5b-adac7e17a978"
      },
      "execution_count": 36,
      "outputs": [
        {
          "output_type": "stream",
          "name": "stdout",
          "text": [
            "mysql: [Warning] Using a password on the command line interface can be insecure.\n",
            "+------------------+----------+---------------+----------+\n",
            "| order_details_id | order_id | pizza_id      | quantity |\n",
            "+------------------+----------+---------------+----------+\n",
            "|                1 |        1 | hawaiian_m    |        1 |\n",
            "|                2 |        2 | classic_dlx_m |        1 |\n",
            "|                3 |        2 | five_cheese_l |        1 |\n",
            "|                4 |        2 | ital_supr_l   |        1 |\n",
            "|                5 |        2 | mexicana_m    |        1 |\n",
            "|                6 |        2 | thai_ckn_l    |        1 |\n",
            "|                7 |        3 | ital_supr_m   |        1 |\n",
            "|                8 |        3 | prsc_argla_l  |        1 |\n",
            "|                9 |        4 | ital_supr_m   |        1 |\n",
            "|               10 |        5 | ital_supr_m   |        1 |\n",
            "+------------------+----------+---------------+----------+\n"
          ]
        }
      ]
    },
    {
      "cell_type": "code",
      "source": [
        "!mysql -u root -proot -e 'use pizza_db; select * from pizza_types limit 10;'"
      ],
      "metadata": {
        "colab": {
          "base_uri": "https://localhost:8080/"
        },
        "id": "tGj6ZyxFtrJg",
        "outputId": "1d7b4cfe-96b5-4452-8353-1c07d8fb9549"
      },
      "execution_count": 37,
      "outputs": [
        {
          "output_type": "stream",
          "name": "stdout",
          "text": [
            "mysql: [Warning] Using a password on the command line interface can be insecure.\n",
            "+---------------+------------------------------+----------+----------------------------------------------------------------------------------------------+\n",
            "| pizza_type_id | name                         | category | ingredients                                                                                  |\n",
            "+---------------+------------------------------+----------+----------------------------------------------------------------------------------------------+\n",
            "| bbq_ckn       | The Barbecue Chicken Pizza   | Chicken  | Barbecued Chicken, Red Peppers, Green Peppers, Tomatoes, Red Onions, Barbecue Sauce          |\n",
            "| cali_ckn      | The California Chicken Pizza | Chicken  | Chicken, Artichoke, Spinach, Garlic, Jalapeno Peppers, Fontina Cheese, Gouda Cheese          |\n",
            "| ckn_alfredo   | The Chicken Alfredo Pizza    | Chicken  | Chicken, Red Onions, Red Peppers, Mushrooms, Asiago Cheese, Alfredo Sauce                    |\n",
            "| ckn_pesto     | The Chicken Pesto Pizza      | Chicken  | Chicken, Tomatoes, Red Peppers, Spinach, Garlic, Pesto Sauce                                 |\n",
            "| southw_ckn    | The Southwest Chicken Pizza  | Chicken  | Chicken, Tomatoes, Red Peppers, Red Onions, Jalapeno Peppers, Corn, Cilantro, Chipotle Sauce |\n",
            "| thai_ckn      | The Thai Chicken Pizza       | Chicken  | Chicken, Pineapple, Tomatoes, Red Peppers, Thai Sweet Chilli Sauce                           |\n",
            "| big_meat      | The Big Meat Pizza           | Classic  | Bacon, Pepperoni, Italian Sausage, Chorizo Sausage                                           |\n",
            "| classic_dlx   | The Classic Deluxe Pizza     | Classic  | Pepperoni, Mushrooms, Red Onions, Red Peppers, Bacon                                         |\n",
            "| hawaiian      | The Hawaiian Pizza           | Classic  | Sliced Ham, Pineapple, Mozzarella Cheese                                                     |\n",
            "| ital_cpcllo   | The Italian Capocollo Pizza  | Classic  | Capocollo, Red Peppers, Tomatoes, Goat Cheese, Garlic, Oregano                               |\n",
            "+---------------+------------------------------+----------+----------------------------------------------------------------------------------------------+\n"
          ]
        }
      ]
    },
    {
      "cell_type": "code",
      "source": [
        "!mysql -u root -proot -e 'use pizza_db; select * from pizzas limit 10;'"
      ],
      "metadata": {
        "colab": {
          "base_uri": "https://localhost:8080/"
        },
        "id": "iNV_nc9OtIpM",
        "outputId": "5bf173b1-1656-4377-fea8-cda8b447e3ff"
      },
      "execution_count": 38,
      "outputs": [
        {
          "output_type": "stream",
          "name": "stdout",
          "text": [
            "mysql: [Warning] Using a password on the command line interface can be insecure.\n",
            "+---------------+---------------+------+-------+\n",
            "| pizza_id      | pizza_type_id | size | price |\n",
            "+---------------+---------------+------+-------+\n",
            "| bbq_ckn_s     | bbq_ckn       | S    | 12.75 |\n",
            "| bbq_ckn_m     | bbq_ckn       | M    | 16.75 |\n",
            "| bbq_ckn_l     | bbq_ckn       | L    | 20.75 |\n",
            "| cali_ckn_s    | cali_ckn      | S    | 12.75 |\n",
            "| cali_ckn_m    | cali_ckn      | M    | 16.75 |\n",
            "| cali_ckn_l    | cali_ckn      | L    | 20.75 |\n",
            "| ckn_alfredo_s | ckn_alfredo   | S    | 12.75 |\n",
            "| ckn_alfredo_m | ckn_alfredo   | M    | 16.75 |\n",
            "| ckn_alfredo_l | ckn_alfredo   | L    | 20.75 |\n",
            "| ckn_pesto_s   | ckn_pesto     | S    | 12.75 |\n",
            "+---------------+---------------+------+-------+\n"
          ]
        }
      ]
    },
    {
      "cell_type": "code",
      "source": [
        "!mysql -u root -proot -e \"use pizza_db; select pizza_types.category, round(sum(order_details.quantity * pizzas.price) / (SELECT ROUND(SUM(order_details.quantity * pizzas.price), 2) AS total_sales FROM order_details JOIN pizzas ON pizzas.pizza_id = order_details.pizza_id) * 100 ,2) as revenue from pizza_types join pizzas on pizza_types.pizza_type_id = pizzas.pizza_type_id join order_details on order_details.pizza_id = pizzas.pizza_id group by pizza_types.category order by revenue desc;\""
      ],
      "metadata": {
        "colab": {
          "base_uri": "https://localhost:8080/"
        },
        "id": "EeA54emXoQX-",
        "outputId": "4984c355-acca-4a79-8de1-a97b25cfd804"
      },
      "execution_count": 39,
      "outputs": [
        {
          "output_type": "stream",
          "name": "stdout",
          "text": [
            "mysql: [Warning] Using a password on the command line interface can be insecure.\n",
            "+----------+---------+\n",
            "| category | revenue |\n",
            "+----------+---------+\n",
            "| Classic  |   26.91 |\n",
            "| Supreme  |   25.46 |\n",
            "| Chicken  |   23.96 |\n",
            "| Veggie   |   23.68 |\n",
            "+----------+---------+\n"
          ]
        }
      ]
    },
    {
      "cell_type": "markdown",
      "source": [
        "# **12 Cumulative revenue over time.**\n",
        "## Calculates cumulative revenue from earliest to latest date."
      ],
      "metadata": {
        "id": "iVBdLtwEt3G2"
      }
    },
    {
      "cell_type": "code",
      "source": [
        "!mysql -u root -proot -e 'use pizza_db; select * from order_details limit 10;'"
      ],
      "metadata": {
        "colab": {
          "base_uri": "https://localhost:8080/"
        },
        "id": "ALCYdWGdxLX4",
        "outputId": "ee54585f-99ac-4324-b73f-80e9fba88d79"
      },
      "execution_count": 40,
      "outputs": [
        {
          "output_type": "stream",
          "name": "stdout",
          "text": [
            "mysql: [Warning] Using a password on the command line interface can be insecure.\n",
            "+------------------+----------+---------------+----------+\n",
            "| order_details_id | order_id | pizza_id      | quantity |\n",
            "+------------------+----------+---------------+----------+\n",
            "|                1 |        1 | hawaiian_m    |        1 |\n",
            "|                2 |        2 | classic_dlx_m |        1 |\n",
            "|                3 |        2 | five_cheese_l |        1 |\n",
            "|                4 |        2 | ital_supr_l   |        1 |\n",
            "|                5 |        2 | mexicana_m    |        1 |\n",
            "|                6 |        2 | thai_ckn_l    |        1 |\n",
            "|                7 |        3 | ital_supr_m   |        1 |\n",
            "|                8 |        3 | prsc_argla_l  |        1 |\n",
            "|                9 |        4 | ital_supr_m   |        1 |\n",
            "|               10 |        5 | ital_supr_m   |        1 |\n",
            "+------------------+----------+---------------+----------+\n"
          ]
        }
      ]
    },
    {
      "cell_type": "code",
      "source": [
        "!mysql -u root -proot -e 'use pizza_db; select * from pizzas limit 10;'"
      ],
      "metadata": {
        "colab": {
          "base_uri": "https://localhost:8080/"
        },
        "id": "GD09_k9BxOEB",
        "outputId": "02400637-406f-4cee-cbf3-0a4f7dc466ec"
      },
      "execution_count": 41,
      "outputs": [
        {
          "output_type": "stream",
          "name": "stdout",
          "text": [
            "mysql: [Warning] Using a password on the command line interface can be insecure.\n",
            "+---------------+---------------+------+-------+\n",
            "| pizza_id      | pizza_type_id | size | price |\n",
            "+---------------+---------------+------+-------+\n",
            "| bbq_ckn_s     | bbq_ckn       | S    | 12.75 |\n",
            "| bbq_ckn_m     | bbq_ckn       | M    | 16.75 |\n",
            "| bbq_ckn_l     | bbq_ckn       | L    | 20.75 |\n",
            "| cali_ckn_s    | cali_ckn      | S    | 12.75 |\n",
            "| cali_ckn_m    | cali_ckn      | M    | 16.75 |\n",
            "| cali_ckn_l    | cali_ckn      | L    | 20.75 |\n",
            "| ckn_alfredo_s | ckn_alfredo   | S    | 12.75 |\n",
            "| ckn_alfredo_m | ckn_alfredo   | M    | 16.75 |\n",
            "| ckn_alfredo_l | ckn_alfredo   | L    | 20.75 |\n",
            "| ckn_pesto_s   | ckn_pesto     | S    | 12.75 |\n",
            "+---------------+---------------+------+-------+\n"
          ]
        }
      ]
    },
    {
      "cell_type": "code",
      "source": [
        "!mysql -u root -proot -e 'use pizza_db; select * from orders limit 10;'"
      ],
      "metadata": {
        "colab": {
          "base_uri": "https://localhost:8080/"
        },
        "id": "_KW752nuxUxi",
        "outputId": "3e7a6695-569e-439c-8331-bdeadab3064d"
      },
      "execution_count": 42,
      "outputs": [
        {
          "output_type": "stream",
          "name": "stdout",
          "text": [
            "mysql: [Warning] Using a password on the command line interface can be insecure.\n",
            "+----------+------------+----------+\n",
            "| order_id | date       | time     |\n",
            "+----------+------------+----------+\n",
            "|        1 | 2015-01-01 | 11:38:36 |\n",
            "|        2 | 2015-01-01 | 11:57:40 |\n",
            "|        3 | 2015-01-01 | 12:12:28 |\n",
            "|        4 | 2015-01-01 | 12:16:31 |\n",
            "|        5 | 2015-01-01 | 12:21:30 |\n",
            "|        6 | 2015-01-01 | 12:29:36 |\n",
            "|        7 | 2015-01-01 | 12:50:37 |\n",
            "|        8 | 2015-01-01 | 12:51:37 |\n",
            "|        9 | 2015-01-01 | 12:52:01 |\n",
            "|       10 | 2015-01-01 | 13:00:15 |\n",
            "+----------+------------+----------+\n"
          ]
        }
      ]
    },
    {
      "cell_type": "code",
      "source": [
        "!mysql -u root -proot -e \"use pizza_db; select date, sum(revenue) over(order by date) as cum_revenue from (select orders.date, sum(order_details.quantity * pizzas.price) as revenue from order_details join pizzas on order_details.pizza_id = pizzas.pizza_id join orders on orders.order_id = order_details.order_id group by orders.date) as sales;\""
      ],
      "metadata": {
        "colab": {
          "base_uri": "https://localhost:8080/"
        },
        "id": "7fG32GRIoVdi",
        "outputId": "14d4313d-4fa1-45a2-c722-7a41bbf3d817"
      },
      "execution_count": 43,
      "outputs": [
        {
          "output_type": "stream",
          "name": "stdout",
          "text": [
            "mysql: [Warning] Using a password on the command line interface can be insecure.\n",
            "+------------+--------------------+\n",
            "| date       | cum_revenue        |\n",
            "+------------+--------------------+\n",
            "| 2015-01-01 | 2713.8500000000004 |\n",
            "| 2015-01-02 |            5445.75 |\n",
            "| 2015-01-03 |            8108.15 |\n",
            "| 2015-01-04 |             9863.6 |\n",
            "| 2015-01-05 |           11929.55 |\n",
            "| 2015-01-06 |            14358.5 |\n",
            "| 2015-01-07 |            16560.7 |\n",
            "| 2015-01-08 |           19399.05 |\n",
            "| 2015-01-09 |            21526.4 |\n",
            "| 2015-01-10 | 23990.350000000002 |\n",
            "| 2015-01-11 |           25862.65 |\n",
            "| 2015-01-12 |            27781.7 |\n",
            "| 2015-01-13 | 29831.300000000003 |\n",
            "| 2015-01-14 | 32358.700000000004 |\n",
            "| 2015-01-15 |  34343.50000000001 |\n",
            "| 2015-01-16 |  36937.65000000001 |\n",
            "| 2015-01-17 |  39001.75000000001 |\n",
            "| 2015-01-18 | 40978.600000000006 |\n",
            "| 2015-01-19 |  43365.75000000001 |\n",
            "| 2015-01-20 |  45763.65000000001 |\n",
            "| 2015-01-21 |  47804.20000000001 |\n",
            "| 2015-01-22 |  50300.90000000001 |\n",
            "| 2015-01-23 | 52724.600000000006 |\n",
            "| 2015-01-24 | 55013.850000000006 |\n",
            "| 2015-01-25 |  56631.40000000001 |\n",
            "| 2015-01-26 |  58515.80000000001 |\n",
            "| 2015-01-27 |  61043.85000000001 |\n",
            "| 2015-01-28 |  63059.85000000001 |\n",
            "| 2015-01-29 | 65105.150000000016 |\n",
            "| 2015-01-30 |  67375.45000000001 |\n",
            "| 2015-01-31 |  69793.30000000002 |\n",
            "| 2015-02-01 |  72982.50000000001 |\n",
            "| 2015-02-02 |  75311.10000000002 |\n",
            "| 2015-02-03 |  77925.90000000002 |\n",
            "| 2015-02-04 |  80159.80000000002 |\n",
            "| 2015-02-05 |  82375.60000000002 |\n",
            "| 2015-02-06 |  84885.55000000002 |\n",
            "| 2015-02-07 |  87123.20000000001 |\n",
            "| 2015-02-08 |  89158.20000000001 |\n",
            "| 2015-02-09 |  91353.55000000002 |\n",
            "| 2015-02-10 |  93410.05000000002 |\n",
            "| 2015-02-11 |  95870.05000000002 |\n",
            "| 2015-02-12 |  98028.85000000002 |\n",
            "| 2015-02-13 | 100783.35000000002 |\n",
            "| 2015-02-14 | 103102.50000000001 |\n",
            "| 2015-02-15 | 105243.75000000001 |\n",
            "| 2015-02-16 | 107212.55000000002 |\n",
            "| 2015-02-17 | 109334.45000000001 |\n",
            "| 2015-02-18 | 111977.30000000002 |\n",
            "| 2015-02-19 | 114007.55000000002 |\n",
            "| 2015-02-20 | 116898.70000000001 |\n",
            "| 2015-02-21 | 119009.70000000001 |\n",
            "| 2015-02-22 | 120589.65000000001 |\n",
            "| 2015-02-23 | 122758.20000000001 |\n",
            "| 2015-02-24 | 124952.75000000001 |\n",
            "| 2015-02-25 | 127294.05000000002 |\n",
            "| 2015-02-26 | 129555.35000000002 |\n",
            "| 2015-02-27 | 132413.30000000002 |\n",
            "| 2015-02-28 | 134952.90000000002 |\n",
            "| 2015-03-01 |          136551.45 |\n",
            "| 2015-03-02 |           138930.5 |\n",
            "| 2015-03-03 |           141218.4 |\n",
            "| 2015-03-04 | 143662.69999999998 |\n",
            "| 2015-03-05 | 146013.34999999998 |\n",
            "| 2015-03-06 |           148527.3 |\n",
            "| 2015-03-07 |          150927.75 |\n",
            "| 2015-03-08 |           153115.9 |\n",
            "| 2015-03-09 | 155450.44999999998 |\n",
            "| 2015-03-10 |          157839.15 |\n",
            "| 2015-03-11 |          160046.85 |\n",
            "| 2015-03-12 |          162041.75 |\n",
            "| 2015-03-13 |           164828.4 |\n",
            "| 2015-03-14 |          166867.85 |\n",
            "| 2015-03-15 |          168936.45 |\n",
            "| 2015-03-16 |           171231.5 |\n",
            "| 2015-03-17 |           174196.8 |\n",
            "| 2015-03-18 | 176272.19999999998 |\n",
            "| 2015-03-19 |           178660.8 |\n",
            "| 2015-03-20 |          181122.05 |\n",
            "| 2015-03-21 | 183389.44999999998 |\n",
            "| 2015-03-22 | 184648.69999999998 |\n",
            "| 2015-03-23 | 186881.24999999997 |\n",
            "| 2015-03-24 | 189043.54999999996 |\n",
            "| 2015-03-25 | 190971.29999999996 |\n",
            "| 2015-03-26 | 193186.79999999996 |\n",
            "| 2015-03-27 | 195931.59999999995 |\n",
            "| 2015-03-28 | 198183.69999999995 |\n",
            "| 2015-03-29 | 200337.94999999995 |\n",
            "| 2015-03-30 | 202593.39999999997 |\n",
            "| 2015-03-31 | 205349.99999999997 |\n",
            "| 2015-04-01 | 207526.84999999998 |\n",
            "| 2015-04-02 | 210073.99999999997 |\n",
            "| 2015-04-03 | 212612.19999999998 |\n",
            "| 2015-04-04 | 215379.74999999997 |\n",
            "| 2015-04-05 | 217289.59999999998 |\n",
            "| 2015-04-06 | 219911.94999999998 |\n",
            "| 2015-04-07 | 222146.19999999998 |\n",
            "| 2015-04-08 |          224440.15 |\n",
            "| 2015-04-09 | 226487.44999999998 |\n",
            "| 2015-04-10 |           228912.4 |\n",
            "| 2015-04-11 |          231456.15 |\n",
            "| 2015-04-12 | 233450.44999999998 |\n",
            "| 2015-04-13 |          235946.65 |\n",
            "| 2015-04-14 |          238452.35 |\n",
            "| 2015-04-15 |           241031.2 |\n",
            "| 2015-04-16 | 243049.15000000002 |\n",
            "| 2015-04-17 | 245724.80000000002 |\n",
            "| 2015-04-18 | 248011.00000000003 |\n",
            "| 2015-04-19 | 249538.95000000004 |\n",
            "| 2015-04-20 | 251998.40000000005 |\n",
            "| 2015-04-21 | 254211.55000000005 |\n",
            "| 2015-04-22 | 256405.00000000006 |\n",
            "| 2015-04-23 | 258831.15000000005 |\n",
            "| 2015-04-24 | 261810.35000000006 |\n",
            "| 2015-04-25 | 263899.55000000005 |\n",
            "| 2015-04-26 | 265666.95000000007 |\n",
            "| 2015-04-27 | 267847.75000000006 |\n",
            "| 2015-04-28 | 269590.55000000005 |\n",
            "| 2015-04-29 | 271419.30000000005 |\n",
            "| 2015-04-30 | 274086.80000000005 |\n",
            "| 2015-05-01 | 276658.75000000006 |\n",
            "| 2015-05-02 | 279058.95000000007 |\n",
            "| 2015-05-03 | 280891.20000000007 |\n",
            "| 2015-05-04 |  283180.1000000001 |\n",
            "| 2015-05-05 | 284893.70000000007 |\n",
            "| 2015-05-06 | 287203.50000000006 |\n",
            "| 2015-05-07 | 289432.35000000003 |\n",
            "| 2015-05-08 |          292484.65 |\n",
            "| 2015-05-09 | 294853.05000000005 |\n",
            "| 2015-05-10 |           297141.4 |\n",
            "| 2015-05-11 |          299529.45 |\n",
            "| 2015-05-12 |          301829.15 |\n",
            "| 2015-05-13 |          304090.95 |\n",
            "| 2015-05-14 |          306785.45 |\n",
            "| 2015-05-15 | 310171.60000000003 |\n",
            "| 2015-05-16 |           312452.7 |\n",
            "| 2015-05-17 | 314281.10000000003 |\n",
            "| 2015-05-18 | 316490.75000000006 |\n",
            "| 2015-05-19 | 318477.75000000006 |\n",
            "| 2015-05-20 | 320850.75000000006 |\n",
            "| 2015-05-21 | 322913.30000000005 |\n",
            "| 2015-05-22 |           325548.4 |\n",
            "| 2015-05-23 | 327992.55000000005 |\n",
            "| 2015-05-24 | 330189.50000000006 |\n",
            "| 2015-05-25 |  332293.9000000001 |\n",
            "| 2015-05-26 |  334170.3500000001 |\n",
            "| 2015-05-27 |  336267.3500000001 |\n",
            "| 2015-05-28 |  338283.7500000001 |\n",
            "| 2015-05-29 |  341284.9500000001 |\n",
            "| 2015-05-30 | 343771.90000000014 |\n",
            "| 2015-05-31 | 345489.55000000016 |\n",
            "| 2015-06-01 | 348557.30000000016 |\n",
            "| 2015-06-02 |  351007.2500000002 |\n",
            "| 2015-06-03 | 352914.30000000016 |\n",
            "| 2015-06-04 | 355197.90000000014 |\n",
            "| 2015-06-05 | 357898.05000000016 |\n",
            "| 2015-06-06 |  360179.0000000002 |\n",
            "| 2015-06-07 |  362139.7500000002 |\n",
            "| 2015-06-08 |  364404.7000000002 |\n",
            "| 2015-06-09 |  366847.2500000002 |\n",
            "| 2015-06-10 |  368866.6500000002 |\n",
            "| 2015-06-11 |  371517.1500000002 |\n",
            "| 2015-06-12 |  373655.7500000002 |\n",
            "| 2015-06-13 |  376164.6500000002 |\n",
            "| 2015-06-14 |  378023.6500000002 |\n",
            "| 2015-06-15 |  380619.2500000002 |\n",
            "| 2015-06-16 | 382517.55000000016 |\n",
            "| 2015-06-17 | 384654.65000000014 |\n",
            "| 2015-06-18 | 386639.15000000014 |\n",
            "| 2015-06-19 | 389432.60000000015 |\n",
            "| 2015-06-20 |  391493.2000000001 |\n",
            "| 2015-06-21 | 393418.40000000014 |\n",
            "| 2015-06-22 |  395737.7000000001 |\n",
            "| 2015-06-23 |  397780.4500000001 |\n",
            "| 2015-06-24 |  400107.9500000001 |\n",
            "| 2015-06-25 | 402507.10000000015 |\n",
            "| 2015-06-26 | 405252.60000000015 |\n",
            "| 2015-06-27 |  408065.5000000002 |\n",
            "| 2015-06-28 |  409635.2000000002 |\n",
            "| 2015-06-29 | 411508.80000000016 |\n",
            "| 2015-06-30 |  413719.7500000002 |\n",
            "| 2015-07-01 |  415951.2500000002 |\n",
            "| 2015-07-02 | 418246.05000000016 |\n",
            "| 2015-07-03 | 421689.05000000016 |\n",
            "| 2015-07-04 |  425553.2500000002 |\n",
            "| 2015-07-05 |  427144.7000000002 |\n",
            "| 2015-07-06 |  429261.6000000002 |\n",
            "| 2015-07-07 | 431636.00000000023 |\n",
            "| 2015-07-08 |  434032.0500000002 |\n",
            "| 2015-07-09 |  436329.8000000002 |\n",
            "| 2015-07-10 | 438762.20000000024 |\n",
            "| 2015-07-11 | 440847.75000000023 |\n",
            "| 2015-07-12 | 443033.40000000026 |\n",
            "| 2015-07-13 | 445092.90000000026 |\n",
            "| 2015-07-14 | 447049.40000000026 |\n",
            "| 2015-07-15 | 449551.20000000024 |\n",
            "| 2015-07-16 | 452015.10000000027 |\n",
            "| 2015-07-17 |  455146.7500000003 |\n",
            "| 2015-07-18 |  457268.9500000003 |\n",
            "| 2015-07-19 |  459291.6500000003 |\n",
            "| 2015-07-20 |  461792.6500000003 |\n",
            "| 2015-07-21 |  463823.5000000003 |\n",
            "| 2015-07-22 | 466115.60000000027 |\n",
            "| 2015-07-23 | 468330.10000000027 |\n",
            "| 2015-07-24 |  471534.5000000003 |\n",
            "| 2015-07-25 |  473771.7500000003 |\n",
            "| 2015-07-26 |  475643.3000000003 |\n",
            "| 2015-07-27 |  477815.3000000003 |\n",
            "| 2015-07-28 | 479909.85000000027 |\n",
            "| 2015-07-29 | 481833.10000000027 |\n",
            "| 2015-07-30 |  484182.2500000003 |\n",
            "| 2015-07-31 |  486277.6500000003 |\n",
            "| 2015-08-01 |  488718.2000000003 |\n",
            "| 2015-08-02 |  490628.3500000003 |\n",
            "| 2015-08-03 |  492610.6000000003 |\n",
            "| 2015-08-04 | 494700.75000000035 |\n",
            "| 2015-08-05 |  496795.6000000003 |\n",
            "| 2015-08-06 |  498894.8500000003 |\n",
            "| 2015-08-07 | 501521.25000000035 |\n",
            "| 2015-08-08 |  504237.6500000004 |\n",
            "| 2015-08-09 |  506240.3000000004 |\n",
            "| 2015-08-10 |  508379.7500000004 |\n",
            "| 2015-08-11 |  510669.7500000004 |\n",
            "| 2015-08-12 |  513035.5000000004 |\n",
            "| 2015-08-13 | 515109.65000000043 |\n",
            "| 2015-08-14 |  518126.2500000004 |\n",
            "| 2015-08-15 |  520378.6000000004 |\n",
            "| 2015-08-16 |  522517.9000000004 |\n",
            "| 2015-08-17 |  525143.9000000004 |\n",
            "| 2015-08-18 |  527245.1000000003 |\n",
            "| 2015-08-19 |  529578.0500000003 |\n",
            "| 2015-08-20 |  531485.7500000002 |\n",
            "| 2015-08-21 |  534087.1500000003 |\n",
            "| 2015-08-22 |  536493.1500000003 |\n",
            "| 2015-08-23 |  538194.7500000002 |\n",
            "| 2015-08-24 |  539891.8000000003 |\n",
            "| 2015-08-25 |  541850.7000000003 |\n",
            "| 2015-08-26 |  544180.1000000003 |\n",
            "| 2015-08-27 |  546297.7500000003 |\n",
            "| 2015-08-28 |  548944.9500000003 |\n",
            "| 2015-08-29 |  550979.9500000003 |\n",
            "| 2015-08-30 |  552474.5500000003 |\n",
            "| 2015-08-31 |  554555.9000000003 |\n",
            "| 2015-09-01 |  556908.7500000002 |\n",
            "| 2015-09-02 |  558774.3000000003 |\n",
            "| 2015-09-03 |  561026.9000000003 |\n",
            "| 2015-09-04 |  563987.8500000002 |\n",
            "| 2015-09-05 |  566525.6500000003 |\n",
            "| 2015-09-06 |  568017.3000000003 |\n",
            "| 2015-09-07 |  570300.6500000003 |\n",
            "| 2015-09-08 |  572550.1500000003 |\n",
            "| 2015-09-09 |  575130.2500000002 |\n",
            "| 2015-09-10 |  577546.1000000002 |\n",
            "| 2015-09-11 |  580308.0000000002 |\n",
            "| 2015-09-12 |  582896.1500000003 |\n",
            "| 2015-09-13 |  584734.3000000003 |\n",
            "| 2015-09-14 |  586899.5500000003 |\n",
            "| 2015-09-15 |  589449.7500000002 |\n",
            "| 2015-09-16 |  591635.0000000002 |\n",
            "| 2015-09-17 |  593877.0500000003 |\n",
            "| 2015-09-18 |  596598.6000000003 |\n",
            "| 2015-09-19 |  598885.1500000004 |\n",
            "| 2015-09-20 |  600714.1500000004 |\n",
            "| 2015-09-21 |  602845.6000000003 |\n",
            "| 2015-09-22 |  605016.0000000003 |\n",
            "| 2015-09-23 |  607179.0000000003 |\n",
            "| 2015-09-26 |  609425.8500000003 |\n",
            "| 2015-09-27 |  611740.5500000003 |\n",
            "| 2015-09-28 |  613775.8500000003 |\n",
            "| 2015-09-29 |  616537.9000000004 |\n",
            "| 2015-09-30 |  618735.9500000004 |\n",
            "| 2015-10-01 |  621938.1000000004 |\n",
            "| 2015-10-02 |  624012.9500000004 |\n",
            "| 2015-10-03 |  626413.9000000004 |\n",
            "| 2015-10-04 |  628556.1000000003 |\n",
            "| 2015-10-06 |  630772.0500000003 |\n",
            "| 2015-10-07 |  632864.4000000003 |\n",
            "| 2015-10-08 |  634840.2500000002 |\n",
            "| 2015-10-09 |  637352.8500000002 |\n",
            "| 2015-10-10 |  639663.0500000002 |\n",
            "| 2015-10-11 |  641579.3000000002 |\n",
            "| 2015-10-13 |  643905.2500000001 |\n",
            "| 2015-10-14 |  646051.6000000001 |\n",
            "| 2015-10-15 |           650371.8 |\n",
            "| 2015-10-16 |           652926.9 |\n",
            "| 2015-10-17 |  655266.7000000001 |\n",
            "| 2015-10-18 |  657062.0000000001 |\n",
            "| 2015-10-20 |  659499.1500000001 |\n",
            "| 2015-10-21 |  661959.6500000001 |\n",
            "| 2015-10-22 |  664360.5500000002 |\n",
            "| 2015-10-23 |  666971.2000000002 |\n",
            "| 2015-10-24 |  669650.7000000002 |\n",
            "| 2015-10-25 |  671487.7500000002 |\n",
            "| 2015-10-27 |  673476.4000000003 |\n",
            "| 2015-10-28 |  675112.3500000002 |\n",
            "| 2015-10-29 |  677282.1000000002 |\n",
            "| 2015-10-30 |  680018.7000000002 |\n",
            "| 2015-10-31 |  682763.5500000002 |\n",
            "| 2015-11-01 |  684750.2000000002 |\n",
            "| 2015-11-02 |  687049.3000000002 |\n",
            "| 2015-11-03 |  688877.8500000002 |\n",
            "| 2015-11-04 |  690843.9500000002 |\n",
            "| 2015-11-05 |  693024.3000000002 |\n",
            "| 2015-11-06 |  696181.8000000002 |\n",
            "| 2015-11-07 |  698762.7500000001 |\n",
            "| 2015-11-08 |  700872.9000000001 |\n",
            "| 2015-11-09 |  703356.6500000001 |\n",
            "| 2015-11-10 |  705399.2500000001 |\n",
            "| 2015-11-11 |  707345.4500000001 |\n",
            "| 2015-11-12 |  709910.2500000001 |\n",
            "| 2015-11-13 |  712174.8000000002 |\n",
            "| 2015-11-14 |  714499.5500000002 |\n",
            "| 2015-11-15 |  716321.2000000002 |\n",
            "| 2015-11-16 |  718577.8500000002 |\n",
            "| 2015-11-17 |  720534.4000000003 |\n",
            "| 2015-11-18 |  722646.1000000002 |\n",
            "| 2015-11-19 |  725341.0000000002 |\n",
            "| 2015-11-20 |  727729.1000000002 |\n",
            "| 2015-11-21 |  729813.0500000002 |\n",
            "| 2015-11-22 |  731181.7500000001 |\n",
            "| 2015-11-23 |  733646.9000000001 |\n",
            "| 2015-11-24 |  735876.9500000002 |\n",
            "| 2015-11-25 |  738240.2000000002 |\n",
            "| 2015-11-26 |  742646.1500000001 |\n",
            "| 2015-11-27 |  747068.6000000001 |\n",
            "| 2015-11-28 |  749036.6500000001 |\n",
            "| 2015-11-29 |  750935.6500000001 |\n",
            "| 2015-11-30 |  753158.9000000001 |\n",
            "| 2015-12-01 |  755235.6000000001 |\n",
            "| 2015-12-02 |  757449.7000000001 |\n",
            "| 2015-12-03 |           759692.9 |\n",
            "| 2015-12-04 |          762571.25 |\n",
            "| 2015-12-05 |           765199.2 |\n",
            "| 2015-12-06 |          767549.45 |\n",
            "| 2015-12-07 |          769964.25 |\n",
            "| 2015-12-08 |           771820.5 |\n",
            "| 2015-12-09 |          774392.05 |\n",
            "| 2015-12-10 |          776377.65 |\n",
            "| 2015-12-11 |          779011.65 |\n",
            "| 2015-12-12 |           780971.8 |\n",
            "| 2015-12-13 |  783216.9500000001 |\n",
            "| 2015-12-14 |          785389.55 |\n",
            "| 2015-12-15 |             787777 |\n",
            "| 2015-12-16 |           790011.8 |\n",
            "| 2015-12-17 |          791892.55 |\n",
            "| 2015-12-18 |  794778.8500000001 |\n",
            "| 2015-12-19 |          797083.05 |\n",
            "| 2015-12-20 |  799187.9500000001 |\n",
            "| 2015-12-21 |          801288.65 |\n",
            "| 2015-12-22 |           803171.6 |\n",
            "| 2015-12-23 |           805415.9 |\n",
            "| 2015-12-24 |          807553.75 |\n",
            "| 2015-12-26 |           809196.8 |\n",
            "| 2015-12-27 |           810615.8 |\n",
            "| 2015-12-28 |             812253 |\n",
            "| 2015-12-29 |          813606.25 |\n",
            "| 2015-12-30 |          814944.05 |\n",
            "| 2015-12-31 |          817860.05 |\n",
            "+------------+--------------------+\n"
          ]
        }
      ]
    },
    {
      "cell_type": "markdown",
      "source": [
        "# **13 Top 3 revenue-generating pizzas per category.**\n",
        "## Uses window functions to get top 3 pizzas by revenue within each category."
      ],
      "metadata": {
        "id": "pbo8BKBexcel"
      }
    },
    {
      "cell_type": "code",
      "source": [
        "!mysql -u root -proot -e 'use pizza_db; select * from pizza_types limit 10;'"
      ],
      "metadata": {
        "colab": {
          "base_uri": "https://localhost:8080/"
        },
        "id": "EklaXA9wx_mi",
        "outputId": "0b856735-8844-4842-a9b5-fef0a3afae40"
      },
      "execution_count": 102,
      "outputs": [
        {
          "output_type": "stream",
          "name": "stdout",
          "text": [
            "mysql: [Warning] Using a password on the command line interface can be insecure.\n",
            "+---------------+------------------------------+----------+----------------------------------------------------------------------------------------------+\n",
            "| pizza_type_id | name                         | category | ingredients                                                                                  |\n",
            "+---------------+------------------------------+----------+----------------------------------------------------------------------------------------------+\n",
            "| bbq_ckn       | The Barbecue Chicken Pizza   | Chicken  | Barbecued Chicken, Red Peppers, Green Peppers, Tomatoes, Red Onions, Barbecue Sauce          |\n",
            "| cali_ckn      | The California Chicken Pizza | Chicken  | Chicken, Artichoke, Spinach, Garlic, Jalapeno Peppers, Fontina Cheese, Gouda Cheese          |\n",
            "| ckn_alfredo   | The Chicken Alfredo Pizza    | Chicken  | Chicken, Red Onions, Red Peppers, Mushrooms, Asiago Cheese, Alfredo Sauce                    |\n",
            "| ckn_pesto     | The Chicken Pesto Pizza      | Chicken  | Chicken, Tomatoes, Red Peppers, Spinach, Garlic, Pesto Sauce                                 |\n",
            "| southw_ckn    | The Southwest Chicken Pizza  | Chicken  | Chicken, Tomatoes, Red Peppers, Red Onions, Jalapeno Peppers, Corn, Cilantro, Chipotle Sauce |\n",
            "| thai_ckn      | The Thai Chicken Pizza       | Chicken  | Chicken, Pineapple, Tomatoes, Red Peppers, Thai Sweet Chilli Sauce                           |\n",
            "| big_meat      | The Big Meat Pizza           | Classic  | Bacon, Pepperoni, Italian Sausage, Chorizo Sausage                                           |\n",
            "| classic_dlx   | The Classic Deluxe Pizza     | Classic  | Pepperoni, Mushrooms, Red Onions, Red Peppers, Bacon                                         |\n",
            "| hawaiian      | The Hawaiian Pizza           | Classic  | Sliced Ham, Pineapple, Mozzarella Cheese                                                     |\n",
            "| ital_cpcllo   | The Italian Capocollo Pizza  | Classic  | Capocollo, Red Peppers, Tomatoes, Goat Cheese, Garlic, Oregano                               |\n",
            "+---------------+------------------------------+----------+----------------------------------------------------------------------------------------------+\n"
          ]
        }
      ]
    },
    {
      "cell_type": "code",
      "source": [
        "!mysql -u root -proot -e 'use pizza_db; select * from pizzas limit 10;'"
      ],
      "metadata": {
        "colab": {
          "base_uri": "https://localhost:8080/"
        },
        "id": "xHUX7wJP3f2Q",
        "outputId": "22683fd3-f715-42e8-8c56-f221e174694f"
      },
      "execution_count": 103,
      "outputs": [
        {
          "output_type": "stream",
          "name": "stdout",
          "text": [
            "mysql: [Warning] Using a password on the command line interface can be insecure.\n",
            "+---------------+---------------+------+-------+\n",
            "| pizza_id      | pizza_type_id | size | price |\n",
            "+---------------+---------------+------+-------+\n",
            "| bbq_ckn_s     | bbq_ckn       | S    | 12.75 |\n",
            "| bbq_ckn_m     | bbq_ckn       | M    | 16.75 |\n",
            "| bbq_ckn_l     | bbq_ckn       | L    | 20.75 |\n",
            "| cali_ckn_s    | cali_ckn      | S    | 12.75 |\n",
            "| cali_ckn_m    | cali_ckn      | M    | 16.75 |\n",
            "| cali_ckn_l    | cali_ckn      | L    | 20.75 |\n",
            "| ckn_alfredo_s | ckn_alfredo   | S    | 12.75 |\n",
            "| ckn_alfredo_m | ckn_alfredo   | M    | 16.75 |\n",
            "| ckn_alfredo_l | ckn_alfredo   | L    | 20.75 |\n",
            "| ckn_pesto_s   | ckn_pesto     | S    | 12.75 |\n",
            "+---------------+---------------+------+-------+\n"
          ]
        }
      ]
    },
    {
      "cell_type": "code",
      "source": [
        "!mysql -u root -proot -e 'use pizza_db; select * from order_details limit 10;'"
      ],
      "metadata": {
        "colab": {
          "base_uri": "https://localhost:8080/"
        },
        "id": "DI4-sdE77fFv",
        "outputId": "ac4aef60-e472-4b1a-c986-8056a944dbb7"
      },
      "execution_count": 104,
      "outputs": [
        {
          "output_type": "stream",
          "name": "stdout",
          "text": [
            "mysql: [Warning] Using a password on the command line interface can be insecure.\n",
            "+------------------+----------+---------------+----------+\n",
            "| order_details_id | order_id | pizza_id      | quantity |\n",
            "+------------------+----------+---------------+----------+\n",
            "|                1 |        1 | hawaiian_m    |        1 |\n",
            "|                2 |        2 | classic_dlx_m |        1 |\n",
            "|                3 |        2 | five_cheese_l |        1 |\n",
            "|                4 |        2 | ital_supr_l   |        1 |\n",
            "|                5 |        2 | mexicana_m    |        1 |\n",
            "|                6 |        2 | thai_ckn_l    |        1 |\n",
            "|                7 |        3 | ital_supr_m   |        1 |\n",
            "|                8 |        3 | prsc_argla_l  |        1 |\n",
            "|                9 |        4 | ital_supr_m   |        1 |\n",
            "|               10 |        5 | ital_supr_m   |        1 |\n",
            "+------------------+----------+---------------+----------+\n"
          ]
        }
      ]
    },
    {
      "cell_type": "code",
      "source": [
        "!mysql -u root -proot -e \"use pizza_db; select name, revenue from (select category, name, revenue, rank() over(partition by category order by revenue desc) as rn from (select pizza_types.category, pizza_types.name, sum((order_details.quantity) * pizzas.price) as revenue from pizza_types join pizzas on pizza_types.pizza_type_id = pizzas.pizza_type_id join order_details on order_details.pizza_id = pizzas.pizza_id group by pizza_types.category, pizza_types.name) as a) as b where rn <= 3;\""
      ],
      "metadata": {
        "colab": {
          "base_uri": "https://localhost:8080/"
        },
        "id": "dD-VP3RI7kOQ",
        "outputId": "512b5aca-4d2e-4e4f-b779-3a8d3b388eb7"
      },
      "execution_count": 105,
      "outputs": [
        {
          "output_type": "stream",
          "name": "stdout",
          "text": [
            "mysql: [Warning] Using a password on the command line interface can be insecure.\n",
            "+------------------------------+-------------------+\n",
            "| name                         | revenue           |\n",
            "+------------------------------+-------------------+\n",
            "| The Thai Chicken Pizza       |          43434.25 |\n",
            "| The Barbecue Chicken Pizza   |             42768 |\n",
            "| The California Chicken Pizza |           41409.5 |\n",
            "| The Classic Deluxe Pizza     |           38180.5 |\n",
            "| The Hawaiian Pizza           |          32273.25 |\n",
            "| The Pepperoni Pizza          |          30161.75 |\n",
            "| The Spicy Italian Pizza      |          34831.25 |\n",
            "| The Italian Supreme Pizza    |          33476.75 |\n",
            "| The Sicilian Pizza           |           30940.5 |\n",
            "| The Four Cheese Pizza        | 32265.70000000065 |\n",
            "| The Mexicana Pizza           |          26780.75 |\n",
            "| The Five Cheese Pizza        |           26066.5 |\n",
            "+------------------------------+-------------------+\n"
          ]
        }
      ]
    },
    {
      "cell_type": "markdown",
      "metadata": {
        "id": "74ea7cf0"
      },
      "source": [
        "## Add a conclusion\n",
        "\n",
        "### Subtask:\n",
        "Summarize the key insights gained from the analysis.\n"
      ]
    },
    {
      "cell_type": "code",
      "metadata": {
        "colab": {
          "base_uri": "https://localhost:8080/",
          "height": 402
        },
        "id": "e5cc319f",
        "outputId": "570f1b63-08ab-42df-985f-a65d6eac0928"
      },
      "source": [
        "\n",
        "# Conclusion\n",
        "\n",
        "This project provided valuable insights into the pizza sales data through a combination of SQL queries for data retrieval and analysis, and Python for visualization.\n",
        "\n",
        "Key findings from the analysis include:\n",
        "\n",
        "- **Total Orders and Revenue:** The dataset contains a total of 21,350 orders, generating a total revenue of $817,860.05.\n",
        "- **Most Popular Pizza Size:** The most commonly ordered pizza size is Large (L), followed by Medium (M) and Small (S).\n",
        "- **Top Selling Pizza Types:** The top 5 most ordered pizza types by quantity are The Classic Deluxe Pizza, The Barbecue Chicken Pizza, The Hawaiian Pizza, The Pepperoni Pizza, and The Thai Chicken Pizza.\n",
        "- **Revenue Contribution by Category:** The Classic category contributes the highest percentage of revenue (26.91%), followed by Supreme (25.46%), Chicken (23.96%), and Veggie (23.68%).\n",
        "- **Order Distribution by Hour:** The distribution of orders throughout the day shows peak hours in the late afternoon and early evening, specifically around 17:00 to 19:00.\n",
        "- **Cumulative Revenue Over Time:** The cumulative revenue plot illustrates a steady increase in revenue over the year, indicating consistent sales.\n",
        "- **Top Revenue Generating Pizzas per Category:** Within each category, the top 3 revenue-generating pizzas were identified, providing a deeper understanding of which specific pizzas are driving sales within their respective categories.\n",
        "\n",
        "Limitations and Future Analysis:\n",
        "While this analysis provides a good overview, future work could involve:\n",
        "- Analyzing sales trends over different periods (e.g., monthly, weekly).\n",
        "- Investigating the impact of ingredients or pizza combinations on sales.\n",
        "- Performing more in-depth customer analysis if customer data were available."
      ],
      "execution_count": 99,
      "outputs": [
        {
          "output_type": "display_data",
          "data": {
            "text/plain": [
              "<IPython.core.display.Markdown object>"
            ],
            "text/markdown": "# Conclusion\n\nThis project provided valuable insights into the pizza sales data through a combination of SQL queries for data retrieval and analysis, and Python for visualization.\n\nKey findings from the analysis include:\n\n- **Total Orders and Revenue:** The dataset contains a total of 21,350 orders, generating a total revenue of $817,860.05.\n- **Most Popular Pizza Size:** The most commonly ordered pizza size is Large (L), followed by Medium (M) and Small (S).\n- **Top Selling Pizza Types:** The top 5 most ordered pizza types by quantity are The Classic Deluxe Pizza, The Barbecue Chicken Pizza, The Hawaiian Pizza, The Pepperoni Pizza, and The Thai Chicken Pizza.\n- **Revenue Contribution by Category:** The Classic category contributes the highest percentage of revenue (26.91%), followed by Supreme (25.46%), Chicken (23.96%), and Veggie (23.68%).\n- **Order Distribution by Hour:** The distribution of orders throughout the day shows peak hours in the late afternoon and early evening, specifically around 17:00 to 19:00.\n- **Cumulative Revenue Over Time:** The cumulative revenue plot illustrates a steady increase in revenue over the year, indicating consistent sales.\n- **Top Revenue Generating Pizzas per Category:** Within each category, the top 3 revenue-generating pizzas were identified, providing a deeper understanding of which specific pizzas are driving sales within their respective categories.\n\nLimitations and Future Analysis:\nWhile this analysis provides a good overview, future work could involve:\n- Analyzing sales trends over different periods (e.g., monthly, weekly).\n- Investigating the impact of ingredients or pizza combinations on sales.\n- Performing more in-depth customer analysis if customer data were available.\n"
          },
          "metadata": {}
        }
      ]
    },
    {
      "cell_type": "code",
      "metadata": {
        "colab": {
          "base_uri": "https://localhost:8080/",
          "height": 406
        },
        "id": "70dc6575",
        "outputId": "526ae004-665a-4448-8a4f-26f50767a8db"
      },
      "source": [
        "\n",
        "# Setup Instructions\n",
        "\n",
        "To replicate the analysis in this notebook, you need to set up a MySQL database and load the provided sample data.\n",
        "\n",
        "**Prerequisites:**\n",
        "\n",
        "*   Access to a terminal or command prompt where you can run MySQL commands.\n",
        "*   The `pizza_db.sql` file containing the database schema and data. This file is essential for loading the data.\n",
        "\n",
        "**Steps:**\n",
        "\n",
        "1.  **Install MySQL Server:** The provided notebook code already handles the installation of the MySQL server using `!sudo apt-get install mysql-server`. If you are running this notebook in an environment without MySQL installed, this command will install it.\n",
        "2.  **Start MySQL Service:** The notebook code also starts the MySQL service using `!sudo service mysql start`.\n",
        "3.  **Create Database:** A database named `pizza_db` is created using the command `!mysql -u root -proot -e \"CREATE DATABASE IF NOT EXISTS pizza_db;\"`. The `IF NOT EXISTS` clause ensures that the command will not fail if the database already exists.\n",
        "4.  **Load Sample Data:** The sample data is loaded into the `pizza_db` database from the `pizza_db.sql` file using the command `!mysql -u root -proot pizza_db < pizza_db.sql`. **Ensure the `pizza_db.sql` file is in the same directory as your notebook or provide the full path to the file.**\n",
        "5.  **Run the Setup Code:** Execute the code cells under the \"Setting Up the SQL Server\" section of this notebook. These cells contain the commands mentioned in steps 1-4.\n",
        "\n",
        "After successfully executing these steps, your MySQL server will be set up, the `pizza_db` database will be created, and the sample data will be loaded, allowing you to run the SQL queries in the subsequent sections."
      ],
      "execution_count": 100,
      "outputs": [
        {
          "output_type": "display_data",
          "data": {
            "text/plain": [
              "<IPython.core.display.Markdown object>"
            ],
            "text/markdown": "# Setup Instructions\n\nTo replicate the analysis in this notebook, you need to set up a MySQL database and load the provided sample data.\n\n**Prerequisites:**\n\n*   Access to a terminal or command prompt where you can run MySQL commands.\n*   The `pizza_db.sql` file containing the database schema and data. This file is essential for loading the data.\n\n**Steps:**\n\n1.  **Install MySQL Server:** The provided notebook code already handles the installation of the MySQL server using `!sudo apt-get install mysql-server`. If you are running this notebook in an environment without MySQL installed, this command will install it.\n2.  **Start MySQL Service:** The notebook code also starts the MySQL service using `!sudo service mysql start`.\n3.  **Create Database:** A database named `pizza_db` is created using the command `!mysql -u root -proot -e \"CREATE DATABASE IF NOT EXISTS pizza_db;\"`. The `IF NOT EXISTS` clause ensures that the command will not fail if the database already exists.\n4.  **Load Sample Data:** The sample data is loaded into the `pizza_db` database from the `pizza_db.sql` file using the command `!mysql -u root -proot pizza_db < pizza_db.sql`. **Ensure the `pizza_db.sql` file is in the same directory as your notebook or provide the full path to the file.**\n5.  **Run the Setup Code:** Execute the code cells under the \"Setting Up the SQL Server\" section of this notebook. These cells contain the commands mentioned in steps 1-4.\n\nAfter successfully executing these steps, your MySQL server will be set up, the `pizza_db` database will be created, and the sample data will be loaded, allowing you to run the SQL queries in the subsequent sections.\n"
          },
          "metadata": {}
        }
      ]
    },
    {
      "cell_type": "markdown",
      "metadata": {
        "id": "42ce11e1"
      },
      "source": [
        "## Summary:\n",
        "\n",
        "### Data Analysis Key Findings\n",
        "\n",
        "*   The dataset contains 21,350 orders, generating a total revenue of \\$817,860.05.\n",
        "*   The most frequently ordered pizza size is Large (L).\n",
        "*   The top 5 most ordered pizza types by quantity are The Classic Deluxe Pizza, The Barbecue Chicken Pizza, The Hawaiian Pizza, The Pepperoni Pizza, and The Thai Chicken Pizza.\n",
        "*   The Classic pizza category contributes the highest percentage of revenue (26.91%).\n",
        "*   Peak order times occur in the late afternoon and early evening (around 17:00 to 19:00).\n",
        "*   Cumulative revenue shows a steady increase throughout the year.\n",
        "\n",
        "### Insights or Next Steps\n",
        "\n",
        "*   Further analysis could explore sales trends over different time periods (e.g., monthly, weekly) or investigate the impact of specific ingredients on sales.\n",
        "*   Identifying the top revenue-generating pizzas within each category can inform menu optimization or marketing strategies.\n"
      ]
    }
  ]
}